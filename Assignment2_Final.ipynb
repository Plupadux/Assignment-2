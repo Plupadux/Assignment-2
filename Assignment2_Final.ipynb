{
 "cells": [
  {
   "cell_type": "markdown",
   "id": "84f07f93",
   "metadata": {},
   "source": [
    "#### **LSE Data Analytics Online Career Accelerator** \n",
    "#### Course 201: Data Analytics with Python"
   ]
  },
  {
   "cell_type": "markdown",
   "id": "2c6a7d7b",
   "metadata": {},
   "source": [
    "## Assignment template: Covid data"
   ]
  },
  {
   "cell_type": "markdown",
   "id": "9157b71c-1db1-4122-8975-627aa7d1b1a5",
   "metadata": {},
   "source": [
    "## Student Note\n",
    "This template can be used to better understand the suggested workflow and how to approach the questions. You are welcome to add code and markdown blocks to the various sections to add either code or comments. Make sure to add code cells as applicable, and to comment all your code blocks.\n",
    "\n",
    "You have the option to populate your notebook with all the elements typically contained within the report, or to submit a separate report. In the case of submitting your notebook, you can embed images, links and text where appropriate in addition to the text notes added.\n",
    "\n",
    "**SPECIAL NOTE**\n",
    "- Submit your Jupyter Notebook with the following naming convention: `LSE_DA201_assignment_[your name]_[your surname]`\n",
    "- You should submit a zipped folder containing all the elements used in your notebook (data files, images, etc)"
   ]
  },
  {
   "cell_type": "markdown",
   "id": "3a895e5d",
   "metadata": {},
   "source": [
    "> ***Markdown notes:*** Remember to change cell types to `Markdown` and take a look here: [Markdown basics](https://docs.github.com/en/get-started/writing-on-github/getting-started-with-writing-and-formatting-on-github/basic-writing-and-formatting-syntax) to add formatted text, links and images to your markdown documents."
   ]
  },
  {
   "cell_type": "markdown",
   "id": "c1f155d2-e4d0-423d-aa87-b8240fcadbfe",
   "metadata": {},
   "source": [
    "### 0) Environment preparation\n",
    "These settings are provided for you. You do not need to make any changes."
   ]
  },
  {
   "cell_type": "code",
   "execution_count": 74,
   "id": "b10f4193-c2a2-4fdc-95b3-c04385631ebe",
   "metadata": {},
   "outputs": [],
   "source": [
    "# Import the required libraries and set plotting options\n",
    "import numpy as np\n",
    "import pandas as pd\n",
    "import seaborn as sns\n",
    "import matplotlib.pyplot as plt\n",
    "\n",
    "sns.set(rc = {'figure.figsize':(15,10)})"
   ]
  },
  {
   "cell_type": "markdown",
   "id": "c3f46860",
   "metadata": {
    "tags": []
   },
   "source": [
    "### 1) Assignment activity 1: [Prepare your GitHub repository](https://fourthrev.instructure.com/courses/313/pages/assignment-activity-1-prepare-your-github-repository?module_item_id=20647)\n",
    "\n",
    "#### 1.1) Report/notebook expectations:\n",
    "- Demonstrate your GitHub setup consisting of the load and push updates of all the Jupyter Notebook files. (**Hint**: Make sure that your github username, the directory structure and updates are visible in the screenshot. Make sure to provide a zipped copy of the folder containing your submission notebook as well as supporting files such as images used in the notebook.)"
   ]
  },
  {
   "cell_type": "markdown",
   "id": "a261c768-dff6-425b-b2e0-aa5b47e5d2fa",
   "metadata": {},
   "source": [
    "#### Required: Report submission:\n",
    "Insert URL to your public GitHub repository and a screenshot (double click cell to edit)\n",
    "- [My Github Repo](https://github.com/username/reponame)\n",
    "- Screenshot demo (replace with your own)\n",
    "\n",
    "!['My Github screenshot](GitHubScreenshot.png)"
   ]
  },
  {
   "cell_type": "markdown",
   "id": "5430b3ce-3d82-4fd7-9163-a9094c7d0632",
   "metadata": {},
   "source": [
    "#### 1.2) Presentation expectations:\n",
    "- Describe the role and how workflow tools such as Github can be used to add value to organisations."
   ]
  },
  {
   "cell_type": "markdown",
   "id": "3848ff2a-a0c8-4807-bf1d-c8e40f3b5f10",
   "metadata": {},
   "source": [
    "#### Optional for notebook/Required for presentation.\n",
    "- You can use this cell as placeholder for bulletpoints to include in your presentation. \n",
    "- Note that this section will not be graded in the notebook, grades awarded based on presentation content only. \n",
    "\n",
    "(Double-click to edit)"
   ]
  },
  {
   "cell_type": "code",
   "execution_count": null,
   "id": "3e8f47ee-c19d-448e-af03-b1b8509bc0a8",
   "metadata": {},
   "outputs": [],
   "source": []
  },
  {
   "cell_type": "markdown",
   "id": "2a44f1af-fa0d-4d5b-92fa-4e6896958644",
   "metadata": {},
   "source": [
    "### 2) Assignment activity 2: [Import and explore data](https://fourthrev.instructure.com/courses/313/pages/assignment-activity-2-import-and-explore-the-data?module_item_id=20648)\n",
    "\n",
    "#### 2.1) Report expectations:\n",
    "- Load the files `covid_19_uk_cases.csv` and `covid_19_uk_vaccinated.csv` and explore the data.\n",
    "- Explore the data using the `info()`, `describe()`, `shape` and `value_counts()` methods, and note the observations regarding data types, number or records and features\n",
    "- Identify missing data\n",
    "- Filter/subset data\n",
    "- Aggregate data (totals and by month)\n",
    "- Note observations"
   ]
  },
  {
   "cell_type": "code",
   "execution_count": 75,
   "id": "c18199fa-8e5e-42e6-9a19-b8766730a16a",
   "metadata": {},
   "outputs": [],
   "source": [
    "# Load the covid cases and vaccine data sets as cov and vac respectively"
   ]
  },
  {
   "cell_type": "code",
   "execution_count": 76,
   "id": "bcd43318-2f54-4fd6-a4f8-b392c2430284",
   "metadata": {},
   "outputs": [],
   "source": [
    "#Read CSV files\n",
    "Vaccinated_uk = pd.read_csv('covid_19_uk_vaccinated.csv')\n",
    "Cases_uk = pd.read_csv('covid_19_uk_cases.csv')\n",
    "Tweets = pd.read_csv('tweets.csv')\n",
    "Global_data = pd.read_csv('global_data.csv')"
   ]
  },
  {
   "cell_type": "code",
   "execution_count": 77,
   "id": "40c58b44-7f82-4862-99a8-89345187c84b",
   "metadata": {},
   "outputs": [],
   "source": [
    "# Explore the DataFrames with the appropriate functions"
   ]
  },
  {
   "cell_type": "code",
   "execution_count": 78,
   "id": "7b5fd0d9-987d-4e50-b0d9-6966d13cd467",
   "metadata": {},
   "outputs": [
    {
     "name": "stdout",
     "output_type": "stream",
     "text": [
      "  Province/State  Country/Region      Lat     Long ISO 3166-1 Alpha 3-Codes  \\\n",
      "0       Anguilla  United Kingdom  18.2206 -63.0686                      AIA   \n",
      "1       Anguilla  United Kingdom  18.2206 -63.0686                      AIA   \n",
      "2       Anguilla  United Kingdom  18.2206 -63.0686                      AIA   \n",
      "3       Anguilla  United Kingdom  18.2206 -63.0686                      AIA   \n",
      "4       Anguilla  United Kingdom  18.2206 -63.0686                      AIA   \n",
      "\n",
      "                   Sub-region Name  Intermediate Region Code        Date  \\\n",
      "0  Latin America and the Caribbean                        29  2020-01-22   \n",
      "1  Latin America and the Caribbean                        29  2020-01-23   \n",
      "2  Latin America and the Caribbean                        29  2020-01-24   \n",
      "3  Latin America and the Caribbean                        29  2020-01-25   \n",
      "4  Latin America and the Caribbean                        29  2020-01-26   \n",
      "\n",
      "   Vaccinated  First Dose  Second Dose  \n",
      "0           0           0            0  \n",
      "1           0           0            0  \n",
      "2           0           0            0  \n",
      "3           0           0            0  \n",
      "4           0           0            0  \n",
      "     Province/State  Country/Region      Lat   Long ISO 3166-1 Alpha 3-Codes  \\\n",
      "7579         Others  United Kingdom  55.3781 -3.436                      GBR   \n",
      "7580         Others  United Kingdom  55.3781 -3.436                      GBR   \n",
      "7581         Others  United Kingdom  55.3781 -3.436                      GBR   \n",
      "7582         Others  United Kingdom  55.3781 -3.436                      GBR   \n",
      "7583         Others  United Kingdom  55.3781 -3.436                      GBR   \n",
      "\n",
      "      Sub-region Name  Intermediate Region Code        Date  Vaccinated  \\\n",
      "7579  Northern Europe                         0  2021-10-10        1070   \n",
      "7580  Northern Europe                         0  2021-10-11        1300   \n",
      "7581  Northern Europe                         0  2021-10-12        1482   \n",
      "7582  Northern Europe                         0  2021-10-13           0   \n",
      "7583  Northern Europe                         0  2021-10-14           0   \n",
      "\n",
      "      First Dose  Second Dose  \n",
      "7579        1216         1070  \n",
      "7580        1604         1300  \n",
      "7581        2027         1482  \n",
      "7582           0            0  \n",
      "7583           0            0  \n",
      "  Province/State  Country/Region      Lat     Long ISO 3166-1 Alpha 3-Codes  \\\n",
      "0       Anguilla  United Kingdom  18.2206 -63.0686                      AIA   \n",
      "1       Anguilla  United Kingdom  18.2206 -63.0686                      AIA   \n",
      "2       Anguilla  United Kingdom  18.2206 -63.0686                      AIA   \n",
      "3       Anguilla  United Kingdom  18.2206 -63.0686                      AIA   \n",
      "4       Anguilla  United Kingdom  18.2206 -63.0686                      AIA   \n",
      "\n",
      "                   Sub-region Name  Intermediate Region Code        Date  \\\n",
      "0  Latin America and the Caribbean                        29  2020-01-22   \n",
      "1  Latin America and the Caribbean                        29  2020-01-23   \n",
      "2  Latin America and the Caribbean                        29  2020-01-24   \n",
      "3  Latin America and the Caribbean                        29  2020-01-25   \n",
      "4  Latin America and the Caribbean                        29  2020-01-26   \n",
      "\n",
      "   Deaths  Cases  Recovered  Hospitalised  \n",
      "0     0.0    0.0        0.0           0.0  \n",
      "1     0.0    0.0        0.0           0.0  \n",
      "2     0.0    0.0        0.0           0.0  \n",
      "3     0.0    0.0        0.0           0.0  \n",
      "4     0.0    0.0        0.0           0.0  \n",
      "     Province/State  Country/Region      Lat   Long ISO 3166-1 Alpha 3-Codes  \\\n",
      "7579         Others  United Kingdom  55.3781 -3.436                      GBR   \n",
      "7580         Others  United Kingdom  55.3781 -3.436                      GBR   \n",
      "7581         Others  United Kingdom  55.3781 -3.436                      GBR   \n",
      "7582         Others  United Kingdom  55.3781 -3.436                      GBR   \n",
      "7583         Others  United Kingdom  55.3781 -3.436                      GBR   \n",
      "\n",
      "      Sub-region Name  Intermediate Region Code        Date    Deaths  \\\n",
      "7579  Northern Europe                         0  2021-10-10  137735.0   \n",
      "7580  Northern Europe                         0  2021-10-11  137763.0   \n",
      "7581  Northern Europe                         0  2021-10-12  137944.0   \n",
      "7582  Northern Europe                         0  2021-10-13  138080.0   \n",
      "7583  Northern Europe                         0  2021-10-14  138237.0   \n",
      "\n",
      "          Cases  Recovered  Hospitalised  \n",
      "7579  8154306.0        0.0         378.0  \n",
      "7580  8193769.0        0.0         386.0  \n",
      "7581  8231437.0        0.0         386.0  \n",
      "7582  8272883.0        0.0           0.0  \n",
      "7583  8317439.0        0.0           0.0  \n",
      "  Province/State Country/Region       Lat       Long  1/22/20  1/23/20  \\\n",
      "0            NaN    Afghanistan  33.93911  67.709953        0        0   \n",
      "1            NaN        Albania  41.15330  20.168300        0        0   \n",
      "2            NaN        Algeria  28.03390   1.659600        0        0   \n",
      "3            NaN        Andorra  42.50630   1.521800        0        0   \n",
      "4            NaN         Angola -11.20270  17.873900        0        0   \n",
      "\n",
      "   1/24/20  1/25/20  1/26/20  1/27/20  ...  10/5/21  10/6/21  10/7/21  \\\n",
      "0        0        0        0        0  ...   155309   155380   155429   \n",
      "1        0        0        0        0  ...   172618   173190   173723   \n",
      "2        0        0        0        0  ...   204046   204171   204276   \n",
      "3        0        0        0        0  ...    15271    15284    15288   \n",
      "4        0        0        0        0  ...    59895    60448    60803   \n",
      "\n",
      "   10/8/21  10/9/21  10/10/21  10/11/21  10/12/21  10/13/21  10/14/21  \n",
      "0   155448   155466    155508    155540    155599    155627    155682  \n",
      "1   174168   174643    174968    175163    175664    176172    176667  \n",
      "2   204388   204490    204597    204695    204790    204900    205005  \n",
      "3    15291    15291     15291     15307     15307     15314     15326  \n",
      "4    61023    61245     61378     61580     61794     62143     62385  \n",
      "\n",
      "[5 rows x 636 columns]\n",
      "    Province/State      Country/Region        Lat        Long  1/22/20  \\\n",
      "274            NaN             Vietnam  14.058324  108.277199        0   \n",
      "275            NaN  West Bank and Gaza  31.952200   35.233200        0   \n",
      "276            NaN               Yemen  15.552727   48.516388        0   \n",
      "277            NaN              Zambia -13.133897   27.849332        0   \n",
      "278            NaN            Zimbabwe -19.015438   29.154857        0   \n",
      "\n",
      "     1/23/20  1/24/20  1/25/20  1/26/20  1/27/20  ...  10/5/21  10/6/21  \\\n",
      "274        2        2        2        2        2  ...   818324   822687   \n",
      "275        0        0        0        0        0  ...   409489   439845   \n",
      "276        0        0        0        0        0  ...     9234     9271   \n",
      "277        0        0        0        0        0  ...   209199   209248   \n",
      "278        0        0        0        0        0  ...   131205   131434   \n",
      "\n",
      "     10/7/21  10/8/21  10/9/21  10/10/21  10/11/21  10/12/21  10/13/21  \\\n",
      "274   826837   831643   836134    839662    843281    846230    849691   \n",
      "275   440936   441882   441882    441882    443766    444729    445538   \n",
      "276     9299     9333     9345      9369      9402      9412      9439   \n",
      "277   209283   209315   209336    209347    209353    209396    209411   \n",
      "278   131523   131705   131762    131796    131875    132016    132108   \n",
      "\n",
      "     10/14/21  \n",
      "274    853842  \n",
      "275    446294  \n",
      "276      9467  \n",
      "277    209431  \n",
      "278    132251  \n",
      "\n",
      "[5 rows x 636 columns]\n"
     ]
    }
   ],
   "source": [
    "#View Data Frames with head/tail\n",
    "\n",
    "print(Vaccinated_uk.head())\n",
    "print(Vaccinated_uk.tail())\n",
    "\n",
    "\n",
    "print(Cases_uk.head())\n",
    "print(Cases_uk.tail())\n",
    "\n",
    "print(Global_data.head())\n",
    "print(Global_data.tail())"
   ]
  },
  {
   "cell_type": "code",
   "execution_count": 79,
   "id": "9f3a9e9c-fc2b-4d16-8389-3bdb56639d33",
   "metadata": {},
   "outputs": [
    {
     "name": "stdout",
     "output_type": "stream",
     "text": [
      "<class 'pandas.core.frame.DataFrame'>\n",
      "RangeIndex: 7584 entries, 0 to 7583\n",
      "Data columns (total 11 columns):\n",
      " #   Column                    Non-Null Count  Dtype  \n",
      "---  ------                    --------------  -----  \n",
      " 0   Province/State            7584 non-null   object \n",
      " 1   Country/Region            7584 non-null   object \n",
      " 2   Lat                       7584 non-null   float64\n",
      " 3   Long                      7584 non-null   float64\n",
      " 4   ISO 3166-1 Alpha 3-Codes  7584 non-null   object \n",
      " 5   Sub-region Name           7584 non-null   object \n",
      " 6   Intermediate Region Code  7584 non-null   int64  \n",
      " 7   Date                      7584 non-null   object \n",
      " 8   Vaccinated                7584 non-null   int64  \n",
      " 9   First Dose                7584 non-null   int64  \n",
      " 10  Second Dose               7584 non-null   int64  \n",
      "dtypes: float64(2), int64(4), object(5)\n",
      "memory usage: 651.9+ KB\n",
      "None\n",
      "<class 'pandas.core.frame.DataFrame'>\n",
      "RangeIndex: 7584 entries, 0 to 7583\n",
      "Data columns (total 12 columns):\n",
      " #   Column                    Non-Null Count  Dtype  \n",
      "---  ------                    --------------  -----  \n",
      " 0   Province/State            7584 non-null   object \n",
      " 1   Country/Region            7584 non-null   object \n",
      " 2   Lat                       7584 non-null   float64\n",
      " 3   Long                      7584 non-null   float64\n",
      " 4   ISO 3166-1 Alpha 3-Codes  7584 non-null   object \n",
      " 5   Sub-region Name           7584 non-null   object \n",
      " 6   Intermediate Region Code  7584 non-null   int64  \n",
      " 7   Date                      7584 non-null   object \n",
      " 8   Deaths                    7582 non-null   float64\n",
      " 9   Cases                     7582 non-null   float64\n",
      " 10  Recovered                 7582 non-null   float64\n",
      " 11  Hospitalised              7582 non-null   float64\n",
      "dtypes: float64(6), int64(1), object(5)\n",
      "memory usage: 711.1+ KB\n",
      "None\n",
      "<class 'pandas.core.frame.DataFrame'>\n",
      "RangeIndex: 279 entries, 0 to 278\n",
      "Columns: 636 entries, Province/State to 10/14/21\n",
      "dtypes: float64(2), int64(632), object(2)\n",
      "memory usage: 1.4+ MB\n",
      "None\n"
     ]
    }
   ],
   "source": [
    "#Print Data types using info()\n",
    "\n",
    "print(Vaccinated_uk.info())\n",
    "\n",
    "print(Cases_uk.info())\n",
    "\n",
    "print(Global_data.info())\n"
   ]
  },
  {
   "cell_type": "code",
   "execution_count": 151,
   "id": "1082bc58-3249-421c-a807-716349042385",
   "metadata": {},
   "outputs": [
    {
     "data": {
      "text/plain": [
       "Anguilla                                        632\n",
       "Bermuda                                         632\n",
       "British Virgin Islands                          632\n",
       "Cayman Islands                                  632\n",
       "Channel Islands                                 632\n",
       "Falkland Islands (Malvinas)                     632\n",
       "Gibraltar                                       632\n",
       "Isle of Man                                     632\n",
       "Montserrat                                      632\n",
       "Saint Helena, Ascension and Tristan da Cunha    632\n",
       "Turks and Caicos Islands                        632\n",
       "Others                                          632\n",
       "Name: Province/State, dtype: int64"
      ]
     },
     "execution_count": 151,
     "metadata": {},
     "output_type": "execute_result"
    }
   ],
   "source": [
    "#Value Counts to find number of provinces in the UK \n",
    " \n",
    "Vaccinated_uk[\"Province/State\"].value_counts()\n",
    "\n"
   ]
  },
  {
   "cell_type": "code",
   "execution_count": 81,
   "id": "f8584e15-0a30-4d79-8087-63085620c518",
   "metadata": {},
   "outputs": [
    {
     "name": "stdout",
     "output_type": "stream",
     "text": [
      "(194, 636)\n",
      "(2, 12)\n",
      "(0, 11)\n"
     ]
    }
   ],
   "source": [
    "# Find Shape of Data Frames containing only N/A values.\n",
    "\n",
    "Global_data_na = Global_data[Global_data.isna().any(axis=1)]\n",
    "print(Global_data_na.shape)\n",
    "\n",
    "Cases_uk_na = Cases_uk[Cases_uk.isna().any(axis=1)]\n",
    "print(Cases_uk_na.shape)\n",
    "\n",
    "Vaccinated_uk_na = Vaccinated_uk[Vaccinated_uk.isna().any(axis=1)]\n",
    "print(Vaccinated_uk_na.shape)"
   ]
  },
  {
   "cell_type": "code",
   "execution_count": null,
   "id": "1636b26d-8524-4b09-b20e-a3e05d07643d",
   "metadata": {},
   "outputs": [],
   "source": []
  },
  {
   "cell_type": "code",
   "execution_count": 82,
   "id": "cfed6fcb-8cf1-4bcf-9aff-836807f07ec0",
   "metadata": {},
   "outputs": [],
   "source": [
    "# Create DataFrame based on Gibraltar data\n",
    "# Hint: newdf = df[df[col]==index]"
   ]
  },
  {
   "cell_type": "code",
   "execution_count": 83,
   "id": "01482eaa-3ad9-4d89-9eed-64f04639f89a",
   "metadata": {},
   "outputs": [
    {
     "name": "stdout",
     "output_type": "stream",
     "text": [
      "['Province/State', 'Country/Region', 'Lat', 'Long', 'ISO 3166-1 Alpha 3-Codes', 'Sub-region Name', 'Intermediate Region Code', 'Date', 'Deaths', 'Cases', 'Recovered', 'Hospitalised']\n",
      "['Province/State', 'Country/Region', 'Lat', 'Long', 'ISO 3166-1 Alpha 3-Codes', 'Sub-region Name', 'Intermediate Region Code', 'Date', 'Deaths', 'Cases', 'Recovered', 'Hospitalised']\n"
     ]
    },
    {
     "data": {
      "text/plain": [
       "'Column_names_Glob = Global_data.columns.values.tolist()\\nprint(Column_names_Glob)'"
      ]
     },
     "execution_count": 83,
     "metadata": {},
     "output_type": "execute_result"
    }
   ],
   "source": [
    "#Column Names to list\n",
    "\n",
    "Column_names_Cas = Cases_uk.columns.values.tolist()\n",
    "print(Column_names_Cas)\n",
    "\n",
    "Column_names_Vac = Cases_uk.columns.values.tolist()\n",
    "print(Column_names_Vac)\n",
    "\n",
    "#Commented out for clearer output\n",
    "\"\"\"Column_names_Glob = Global_data.columns.values.tolist()\n",
    "print(Column_names_Glob)\"\"\""
   ]
  },
  {
   "cell_type": "code",
   "execution_count": 84,
   "id": "02731bc4-d90b-46d7-9020-ebed51252509",
   "metadata": {},
   "outputs": [
    {
     "name": "stdout",
     "output_type": "stream",
     "text": [
      "(632, 12)\n",
      "     Province/State  Country/Region      Lat    Long ISO 3166-1 Alpha 3-Codes  \\\n",
      "3792      Gibraltar  United Kingdom  36.1408 -5.3536                      GIB   \n",
      "3793      Gibraltar  United Kingdom  36.1408 -5.3536                      GIB   \n",
      "3794      Gibraltar  United Kingdom  36.1408 -5.3536                      GIB   \n",
      "3795      Gibraltar  United Kingdom  36.1408 -5.3536                      GIB   \n",
      "3796      Gibraltar  United Kingdom  36.1408 -5.3536                      GIB   \n",
      "\n",
      "      Sub-region Name  Intermediate Region Code        Date  Deaths  Cases  \\\n",
      "3792  Southern Europe                         0  2020-01-22     0.0    0.0   \n",
      "3793  Southern Europe                         0  2020-01-23     0.0    0.0   \n",
      "3794  Southern Europe                         0  2020-01-24     0.0    0.0   \n",
      "3795  Southern Europe                         0  2020-01-25     0.0    0.0   \n",
      "3796  Southern Europe                         0  2020-01-26     0.0    0.0   \n",
      "\n",
      "      Recovered  Hospitalised  \n",
      "3792        0.0           0.0  \n",
      "3793        0.0           0.0  \n",
      "3794        0.0           0.0  \n",
      "3795        0.0           0.0  \n",
      "3796        0.0           0.0  \n",
      "     Province/State  Country/Region      Lat    Long ISO 3166-1 Alpha 3-Codes  \\\n",
      "4419      Gibraltar  United Kingdom  36.1408 -5.3536                      GIB   \n",
      "4420      Gibraltar  United Kingdom  36.1408 -5.3536                      GIB   \n",
      "4421      Gibraltar  United Kingdom  36.1408 -5.3536                      GIB   \n",
      "4422      Gibraltar  United Kingdom  36.1408 -5.3536                      GIB   \n",
      "4423      Gibraltar  United Kingdom  36.1408 -5.3536                      GIB   \n",
      "\n",
      "      Sub-region Name  Intermediate Region Code        Date  Deaths   Cases  \\\n",
      "4419  Southern Europe                         0  2021-10-10    97.0  5626.0   \n",
      "4420  Southern Europe                         0  2021-10-11    97.0  5655.0   \n",
      "4421  Southern Europe                         0  2021-10-12    97.0  5682.0   \n",
      "4422  Southern Europe                         0  2021-10-13    97.0  5707.0   \n",
      "4423  Southern Europe                         0  2021-10-14    97.0  5727.0   \n",
      "\n",
      "      Recovered  Hospitalised  \n",
      "4419        0.0         858.0  \n",
      "4420        0.0         876.0  \n",
      "4421        0.0         876.0  \n",
      "4422        0.0           0.0  \n",
      "4423        0.0           0.0  \n"
     ]
    }
   ],
   "source": [
    "#Subset for Gibraltar\n",
    "\n",
    "Cases_Gib = Cases_uk[Cases_uk['Province/State'] == 'Gibraltar']\n",
    "\n",
    "print(Cases_Gib.shape)\n",
    "print(Cases_Gib.head())\n",
    "print(Cases_Gib.tail())"
   ]
  },
  {
   "cell_type": "code",
   "execution_count": 85,
   "id": "a213c4e6-357d-401e-b747-f5de9aed4cc8",
   "metadata": {},
   "outputs": [
    {
     "name": "stdout",
     "output_type": "stream",
     "text": [
      "(632, 5)\n",
      "     Province/State  Deaths  Cases  Recovered  Hospitalised\n",
      "3792      Gibraltar     0.0    0.0        0.0           0.0\n",
      "3793      Gibraltar     0.0    0.0        0.0           0.0\n",
      "3794      Gibraltar     0.0    0.0        0.0           0.0\n",
      "3795      Gibraltar     0.0    0.0        0.0           0.0\n",
      "3796      Gibraltar     0.0    0.0        0.0           0.0\n",
      "     Province/State  Deaths   Cases  Recovered  Hospitalised\n",
      "4419      Gibraltar    97.0  5626.0        0.0         858.0\n",
      "4420      Gibraltar    97.0  5655.0        0.0         876.0\n",
      "4421      Gibraltar    97.0  5682.0        0.0         876.0\n",
      "4422      Gibraltar    97.0  5707.0        0.0           0.0\n",
      "4423      Gibraltar    97.0  5727.0        0.0           0.0\n",
      "     Province/State  Deaths   Cases  Recovered  Hospitalised\n",
      "3792      Gibraltar     0.0     0.0        0.0           0.0\n",
      "3793      Gibraltar     0.0     0.0        0.0           0.0\n",
      "3794      Gibraltar     0.0     0.0        0.0           0.0\n",
      "3795      Gibraltar     0.0     0.0        0.0           0.0\n",
      "3796      Gibraltar     0.0     0.0        0.0           0.0\n",
      "...             ...     ...     ...        ...           ...\n",
      "4419      Gibraltar    97.0  5626.0        0.0         858.0\n",
      "4420      Gibraltar    97.0  5655.0        0.0         876.0\n",
      "4421      Gibraltar    97.0  5682.0        0.0         876.0\n",
      "4422      Gibraltar    97.0  5707.0        0.0           0.0\n",
      "4423      Gibraltar    97.0  5727.0        0.0           0.0\n",
      "\n",
      "[632 rows x 5 columns]\n"
     ]
    }
   ],
   "source": [
    "#Subset DF for selected Columns\n",
    "\n",
    "Gib_Cases = Cases_Gib[['Province/State', 'Deaths', 'Cases', 'Recovered', 'Hospitalised']]\n",
    "print(Gib_Cases.shape)\n",
    "print(Gib_Cases.head())\n",
    "print(Gib_Cases.tail())\n",
    "print(Gib_Cases)\n"
   ]
  },
  {
   "cell_type": "code",
   "execution_count": 86,
   "id": "f24949f1-8266-4d87-9692-271c78f7c310",
   "metadata": {},
   "outputs": [
    {
     "name": "stdout",
     "output_type": "stream",
     "text": [
      "(0, 12)\n",
      "Empty DataFrame\n",
      "Columns: [Province/State, Country/Region, Lat, Long, ISO 3166-1 Alpha 3-Codes, Sub-region Name, Intermediate Region Code, Date, Deaths, Cases, Recovered, Hospitalised]\n",
      "Index: []\n"
     ]
    }
   ],
   "source": [
    "#Missing values in Subsetted Gibraltar set\n",
    "\n",
    "G_Cases_na = Cases_Gib[Cases_Gib.isna().any(axis=1)]\n",
    "\n",
    "print(G_Cases_na.shape)\n",
    "print(G_Cases_na.head())"
   ]
  },
  {
   "cell_type": "code",
   "execution_count": 87,
   "id": "112a82b4-07be-423d-9959-3fe8c9b26d90",
   "metadata": {},
   "outputs": [
    {
     "name": "stdout",
     "output_type": "stream",
     "text": [
      "Province/State               object\n",
      "Country/Region               object\n",
      "Lat                         float64\n",
      "Long                        float64\n",
      "ISO 3166-1 Alpha 3-Codes     object\n",
      "Sub-region Name              object\n",
      "Intermediate Region Code      int64\n",
      "Date                         object\n",
      "Vaccinated                    int64\n",
      "First Dose                    int64\n",
      "Second Dose                   int64\n",
      "dtype: object\n",
      "Province/State               object\n",
      "Country/Region               object\n",
      "Lat                         float64\n",
      "Long                        float64\n",
      "ISO 3166-1 Alpha 3-Codes     object\n",
      "Sub-region Name              object\n",
      "Intermediate Region Code      int64\n",
      "Date                         object\n",
      "Deaths                      float64\n",
      "Cases                       float64\n",
      "Recovered                   float64\n",
      "Hospitalised                float64\n",
      "dtype: object\n",
      "Province/State     object\n",
      "Country/Region     object\n",
      "Lat               float64\n",
      "Long              float64\n",
      "1/22/20             int64\n",
      "                   ...   \n",
      "10/10/21            int64\n",
      "10/11/21            int64\n",
      "10/12/21            int64\n",
      "10/13/21            int64\n",
      "10/14/21            int64\n",
      "Length: 636, dtype: object\n"
     ]
    }
   ],
   "source": [
    "#Data Type \n",
    "\n",
    "print(Vaccinated_uk.dtypes)\n",
    "print(Cases_uk.dtypes)\n",
    "print(Global_data.dtypes)"
   ]
  },
  {
   "cell_type": "code",
   "execution_count": 88,
   "id": "e722df69-b55c-4909-a189-1ed1f482f403",
   "metadata": {},
   "outputs": [
    {
     "data": {
      "text/html": [
       "<div>\n",
       "<style scoped>\n",
       "    .dataframe tbody tr th:only-of-type {\n",
       "        vertical-align: middle;\n",
       "    }\n",
       "\n",
       "    .dataframe tbody tr th {\n",
       "        vertical-align: top;\n",
       "    }\n",
       "\n",
       "    .dataframe thead th {\n",
       "        text-align: right;\n",
       "    }\n",
       "</style>\n",
       "<table border=\"1\" class=\"dataframe\">\n",
       "  <thead>\n",
       "    <tr style=\"text-align: right;\">\n",
       "      <th></th>\n",
       "      <th>Deaths</th>\n",
       "      <th>Cases</th>\n",
       "      <th>Recovered</th>\n",
       "      <th>Hospitalised</th>\n",
       "    </tr>\n",
       "  </thead>\n",
       "  <tbody>\n",
       "    <tr>\n",
       "      <th>count</th>\n",
       "      <td>632.000000</td>\n",
       "      <td>632.000000</td>\n",
       "      <td>632.000000</td>\n",
       "      <td>632.000000</td>\n",
       "    </tr>\n",
       "    <tr>\n",
       "      <th>mean</th>\n",
       "      <td>40.208861</td>\n",
       "      <td>2237.109177</td>\n",
       "      <td>1512.821203</td>\n",
       "      <td>1027.625000</td>\n",
       "    </tr>\n",
       "    <tr>\n",
       "      <th>std</th>\n",
       "      <td>45.332832</td>\n",
       "      <td>2136.268090</td>\n",
       "      <td>1817.096755</td>\n",
       "      <td>1145.681058</td>\n",
       "    </tr>\n",
       "    <tr>\n",
       "      <th>min</th>\n",
       "      <td>0.000000</td>\n",
       "      <td>0.000000</td>\n",
       "      <td>0.000000</td>\n",
       "      <td>0.000000</td>\n",
       "    </tr>\n",
       "    <tr>\n",
       "      <th>25%</th>\n",
       "      <td>0.000000</td>\n",
       "      <td>177.000000</td>\n",
       "      <td>109.500000</td>\n",
       "      <td>157.750000</td>\n",
       "    </tr>\n",
       "    <tr>\n",
       "      <th>50%</th>\n",
       "      <td>5.000000</td>\n",
       "      <td>1036.500000</td>\n",
       "      <td>323.500000</td>\n",
       "      <td>675.500000</td>\n",
       "    </tr>\n",
       "    <tr>\n",
       "      <th>75%</th>\n",
       "      <td>94.000000</td>\n",
       "      <td>4286.000000</td>\n",
       "      <td>4122.500000</td>\n",
       "      <td>1548.000000</td>\n",
       "    </tr>\n",
       "    <tr>\n",
       "      <th>max</th>\n",
       "      <td>97.000000</td>\n",
       "      <td>5727.000000</td>\n",
       "      <td>4670.000000</td>\n",
       "      <td>4907.000000</td>\n",
       "    </tr>\n",
       "  </tbody>\n",
       "</table>\n",
       "</div>"
      ],
      "text/plain": [
       "           Deaths        Cases    Recovered  Hospitalised\n",
       "count  632.000000   632.000000   632.000000    632.000000\n",
       "mean    40.208861  2237.109177  1512.821203   1027.625000\n",
       "std     45.332832  2136.268090  1817.096755   1145.681058\n",
       "min      0.000000     0.000000     0.000000      0.000000\n",
       "25%      0.000000   177.000000   109.500000    157.750000\n",
       "50%      5.000000  1036.500000   323.500000    675.500000\n",
       "75%     94.000000  4286.000000  4122.500000   1548.000000\n",
       "max     97.000000  5727.000000  4670.000000   4907.000000"
      ]
     },
     "execution_count": 88,
     "metadata": {},
     "output_type": "execute_result"
    }
   ],
   "source": [
    "Gib_Cases.describe()"
   ]
  },
  {
   "cell_type": "code",
   "execution_count": 89,
   "id": "fa568e2d-d110-4022-84cd-5e4c2d8b01cc",
   "metadata": {},
   "outputs": [],
   "source": [
    "# Explore and note observations\n",
    "# Are there any of the visualisations that could be added here to make it easier?\n",
    "# Explore behaviour over time"
   ]
  },
  {
   "cell_type": "code",
   "execution_count": 90,
   "id": "20800d90-a78b-4f2a-94ea-77f5b606c13b",
   "metadata": {},
   "outputs": [
    {
     "data": {
      "text/plain": [
       "'Viewing the first 5 and last rows and the shape of the data frames shows that the data Set was imported correctly.\\nGlobal_Data has each of its dates as its own column leading to an unreadable and incredibly wide dataframe. \\n\\nDate in vaccinated uk and Cases_uk is of type object, needs to be transformed into date. Dates in the global data set are of\\ntype integer and need to be converted to date. Numeric Data is of correct format in the Vaccinated uk data set as type int64.\\nHowever in the Cases uk data set it is of type float and will need to be converted to integer as either a person is has been\\ninfected or not, there are no middle points that would be represented with a decimal number, additionally,\\nit would slow down the program’s processing speed.\\n\\nEach consecutive row in the cases column for Gibraltar seems to be a running total of the total number of recorded cases\\nin Gibraltar. We can use describe() and .max() to find the total number of cases over time in Gibraltar.\\nThe number of vaccinated people in the Vaccinated_uk data set however is not auto-incrementing which is unusual\\nas the number of vaccinated people should not drop off unless it is depicting the number of newly fully vaccinated\\nindividuals per day.\\n\\nall data sets have a default index starting with 0.\\n\\n2 missing values on the 2020-09-21 and 2020-09-22 in Bermuda. At a first glance at the columns there are\\nentire months of missing data in the Global dataset. There are 194 rows missing in the global data set.'"
      ]
     },
     "execution_count": 90,
     "metadata": {},
     "output_type": "execute_result"
    }
   ],
   "source": [
    "\"\"\"Viewing the first 5 and last rows and the shape of the data frames shows that the data Set was imported correctly.\n",
    "Global_Data has each of its dates as its own column leading to an unreadable and incredibly wide dataframe. \n",
    "\n",
    "Date in vaccinated uk and Cases_uk is of type object, needs to be transformed into date. Dates in the global data set are of\n",
    "type integer and need to be converted to date. Numeric Data is of correct format in the Vaccinated uk data set as type int64.\n",
    "However in the Cases uk data set it is of type float and will need to be converted to integer as either a person is has been\n",
    "infected or not, there are no middle points that would be represented with a decimal number, additionally,\n",
    "it would slow down the program’s processing speed.\n",
    "\n",
    "Each consecutive row in the cases column for Gibraltar seems to be a running total of the total number of recorded cases\n",
    "in Gibraltar. We can use describe() and .max() to find the total number of cases over time in Gibraltar.\n",
    "The number of vaccinated people in the Vaccinated_uk data set however is not auto-incrementing which is unusual\n",
    "as the number of vaccinated people should not drop off unless it is depicting the number of newly fully vaccinated\n",
    "individuals per day.\n",
    "\n",
    "all data sets have a default index starting with 0.\n",
    "\n",
    "2 missing values on the 2020-09-21 and 2020-09-22 in Bermuda. At a first glance at the columns there are\n",
    "entire months of missing data in the Global dataset. There are 194 rows missing in the global data set.\"\"\"\n"
   ]
  },
  {
   "cell_type": "markdown",
   "id": "0fc4f244-8514-4337-b581-9a25611b36b7",
   "metadata": {
    "tags": []
   },
   "source": [
    "#### 2.2) Presentation expectations:\n",
    "Use the process of exploring the data for Gibraltar as example to provide a brief description of the various phases to help your team to understand the process. Keep it high level and make sure to focus on both specifics relating to the case (first dose, second dose per region, total and over time) and brief observations regarding the process. Assignment two considers basic data exploration.\n",
    "- Can we make decisions based on total numbers only, or do trends over time offer additional insights?\n",
    "- Why it is important to explore the data, what are the typical mistakes made in this phase?"
   ]
  },
  {
   "cell_type": "code",
   "execution_count": null,
   "id": "fe004db6-d347-4eb7-a8bf-fc47a50e2aac",
   "metadata": {},
   "outputs": [],
   "source": [
    "#Describe various phases of analysis"
   ]
  },
  {
   "cell_type": "code",
   "execution_count": null,
   "id": "e4267807",
   "metadata": {},
   "outputs": [],
   "source": [
    "\"\"\"\n",
    "We first downloaded the essential libraries.\n",
    "We then checked the data was imported correctly using head, tail and shape functions\n",
    "We check and correct the data types, converting the date column from object to datetime.\n",
    "We then checked for missing values, there were many missing in the global data set, 2 rows in the cases data set and none in\n",
    "the vaccinated data set\n",
    "We then subsetted for Gibraltar and isolated it for analysis.\n",
    "\n",
    "First dose represents individuals who have received their initial dose and vaccinated people have recieved two doses\"\"\""
   ]
  },
  {
   "cell_type": "code",
   "execution_count": null,
   "id": "c5dd76e0",
   "metadata": {},
   "outputs": [],
   "source": [
    "#Observations gained from analysis"
   ]
  },
  {
   "cell_type": "code",
   "execution_count": null,
   "id": "3133afd8",
   "metadata": {},
   "outputs": [],
   "source": [
    "\"\"\"There have been x deaths...\"\"\""
   ]
  },
  {
   "cell_type": "code",
   "execution_count": null,
   "id": "912ac989",
   "metadata": {},
   "outputs": [],
   "source": [
    "#Can we make decisions based on total numbers only, or do trends over time offer additional insights?"
   ]
  },
  {
   "cell_type": "code",
   "execution_count": null,
   "id": "050fbc85",
   "metadata": {},
   "outputs": [],
   "source": [
    "\"\"\"For the cases uk data set, as deaths, hospitalisationd, recoveries and cases are all running totals of\n",
    "one another we can use the describe and max functions to analyse the data using absolute numbers. Analsying trends over time\n",
    "can also offer additional insights in observing the periods in which there were increases in the number of covid cases.\n",
    "\n",
    "However, in the vaccinated uk data set as vaccination reports are daily, we can use absollute numbers such as the sum to \n",
    "analyse the data in a basic form. Although, analysing trends over time can show daily fluctuations in the number of vaccinated\n",
    "people daily.\n",
    "\"\"\""
   ]
  },
  {
   "cell_type": "code",
   "execution_count": null,
   "id": "0b812c60",
   "metadata": {},
   "outputs": [],
   "source": [
    "#Why it is important to explore the data, what are the typical mistakes made in this phase?"
   ]
  },
  {
   "cell_type": "code",
   "execution_count": null,
   "id": "da424eb2",
   "metadata": {},
   "outputs": [],
   "source": [
    "\"\"\"It is important to explore the data using head and shape to verify the data was imported correctly. Evaluating the data types\n",
    "allows us to spot problematic values such as dates being classified as type object. Spotting these errors allows for smoother\n",
    "and more effective analysis.\"\"\""
   ]
  },
  {
   "cell_type": "markdown",
   "id": "861d8313-d8cf-4ed4-a885-fd0fd69375b5",
   "metadata": {
    "tags": []
   },
   "source": [
    "### 3) Assignment activity 3: [Merge and analyse the data](https://fourthrev.instructure.com/courses/313/pages/assignment-activity-3-merge-and-analyse-the-data?module_item_id=20649)\n",
    "\n",
    "#### 3.1) Report expectations:\n",
    "- Merge and explore the data\n",
    "- Convert the data type of the Date column from object to datetime\n",
    "- Create a dataset that meets the expected parameters\n",
    "- Add calculated features to dataframes (difference between first and second dose vaccinations)\n",
    "- Filter and sort output\n",
    "- Observe totals and percentages as a total and over time\n",
    "- Note observations\n",
    "\n",
    "Merge the DataFrames without duplicating columns. The new DataFrame (e.g. `covid`) will have `7584` rows and the following columns: Province/State, Country/Region, Date, Vaccinated, First Dose, Second Dose, Deaths, Cases, Recovered, Hospitalised."
   ]
  },
  {
   "cell_type": "code",
   "execution_count": 91,
   "id": "47c49913-e413-48ca-b559-12ea4092f70e",
   "metadata": {},
   "outputs": [],
   "source": [
    "# Join the DataFrames as covid where you merge cov and vac"
   ]
  },
  {
   "cell_type": "code",
   "execution_count": 92,
   "id": "716e5623",
   "metadata": {},
   "outputs": [],
   "source": [
    "# Merge \n",
    "\n",
    "UK_Data = pd.merge(Vaccinated_uk, Cases_uk, on=('Province/State', 'Date'), how= 'left')\n",
    "\n",
    "UK_df = pd.DataFrame(UK_Data)"
   ]
  },
  {
   "cell_type": "code",
   "execution_count": 93,
   "id": "58a2d0fa-5af5-4897-ac2c-8fb4d3120377",
   "metadata": {},
   "outputs": [],
   "source": [
    "# Explore the new DataFrame"
   ]
  },
  {
   "cell_type": "code",
   "execution_count": 94,
   "id": "55930533",
   "metadata": {},
   "outputs": [
    {
     "name": "stdout",
     "output_type": "stream",
     "text": [
      "(7584, 21)\n",
      "  Province/State Country/Region_x    Lat_x   Long_x  \\\n",
      "0       Anguilla   United Kingdom  18.2206 -63.0686   \n",
      "1       Anguilla   United Kingdom  18.2206 -63.0686   \n",
      "2       Anguilla   United Kingdom  18.2206 -63.0686   \n",
      "3       Anguilla   United Kingdom  18.2206 -63.0686   \n",
      "4       Anguilla   United Kingdom  18.2206 -63.0686   \n",
      "\n",
      "  ISO 3166-1 Alpha 3-Codes_x                Sub-region Name_x  \\\n",
      "0                        AIA  Latin America and the Caribbean   \n",
      "1                        AIA  Latin America and the Caribbean   \n",
      "2                        AIA  Latin America and the Caribbean   \n",
      "3                        AIA  Latin America and the Caribbean   \n",
      "4                        AIA  Latin America and the Caribbean   \n",
      "\n",
      "   Intermediate Region Code_x        Date  Vaccinated  First Dose  ...  \\\n",
      "0                          29  2020-01-22           0           0  ...   \n",
      "1                          29  2020-01-23           0           0  ...   \n",
      "2                          29  2020-01-24           0           0  ...   \n",
      "3                          29  2020-01-25           0           0  ...   \n",
      "4                          29  2020-01-26           0           0  ...   \n",
      "\n",
      "   Country/Region_y    Lat_y   Long_y  ISO 3166-1 Alpha 3-Codes_y  \\\n",
      "0    United Kingdom  18.2206 -63.0686                         AIA   \n",
      "1    United Kingdom  18.2206 -63.0686                         AIA   \n",
      "2    United Kingdom  18.2206 -63.0686                         AIA   \n",
      "3    United Kingdom  18.2206 -63.0686                         AIA   \n",
      "4    United Kingdom  18.2206 -63.0686                         AIA   \n",
      "\n",
      "                 Sub-region Name_y Intermediate Region Code_y  Deaths  Cases  \\\n",
      "0  Latin America and the Caribbean                         29     0.0    0.0   \n",
      "1  Latin America and the Caribbean                         29     0.0    0.0   \n",
      "2  Latin America and the Caribbean                         29     0.0    0.0   \n",
      "3  Latin America and the Caribbean                         29     0.0    0.0   \n",
      "4  Latin America and the Caribbean                         29     0.0    0.0   \n",
      "\n",
      "   Recovered  Hospitalised  \n",
      "0        0.0           0.0  \n",
      "1        0.0           0.0  \n",
      "2        0.0           0.0  \n",
      "3        0.0           0.0  \n",
      "4        0.0           0.0  \n",
      "\n",
      "[5 rows x 21 columns]\n",
      "     Province/State Country/Region_x    Lat_x  Long_x  \\\n",
      "7579         Others   United Kingdom  55.3781  -3.436   \n",
      "7580         Others   United Kingdom  55.3781  -3.436   \n",
      "7581         Others   United Kingdom  55.3781  -3.436   \n",
      "7582         Others   United Kingdom  55.3781  -3.436   \n",
      "7583         Others   United Kingdom  55.3781  -3.436   \n",
      "\n",
      "     ISO 3166-1 Alpha 3-Codes_x Sub-region Name_x  Intermediate Region Code_x  \\\n",
      "7579                        GBR   Northern Europe                           0   \n",
      "7580                        GBR   Northern Europe                           0   \n",
      "7581                        GBR   Northern Europe                           0   \n",
      "7582                        GBR   Northern Europe                           0   \n",
      "7583                        GBR   Northern Europe                           0   \n",
      "\n",
      "            Date  Vaccinated  First Dose  ...  Country/Region_y    Lat_y  \\\n",
      "7579  2021-10-10        1070        1216  ...    United Kingdom  55.3781   \n",
      "7580  2021-10-11        1300        1604  ...    United Kingdom  55.3781   \n",
      "7581  2021-10-12        1482        2027  ...    United Kingdom  55.3781   \n",
      "7582  2021-10-13           0           0  ...    United Kingdom  55.3781   \n",
      "7583  2021-10-14           0           0  ...    United Kingdom  55.3781   \n",
      "\n",
      "      Long_y  ISO 3166-1 Alpha 3-Codes_y Sub-region Name_y  \\\n",
      "7579  -3.436                         GBR   Northern Europe   \n",
      "7580  -3.436                         GBR   Northern Europe   \n",
      "7581  -3.436                         GBR   Northern Europe   \n",
      "7582  -3.436                         GBR   Northern Europe   \n",
      "7583  -3.436                         GBR   Northern Europe   \n",
      "\n",
      "     Intermediate Region Code_y    Deaths      Cases  Recovered  Hospitalised  \n",
      "7579                          0  137735.0  8154306.0        0.0         378.0  \n",
      "7580                          0  137763.0  8193769.0        0.0         386.0  \n",
      "7581                          0  137944.0  8231437.0        0.0         386.0  \n",
      "7582                          0  138080.0  8272883.0        0.0           0.0  \n",
      "7583                          0  138237.0  8317439.0        0.0           0.0  \n",
      "\n",
      "[5 rows x 21 columns]\n",
      "     Province/State Country/Region_x    Lat_x   Long_x  \\\n",
      "0          Anguilla   United Kingdom  18.2206 -63.0686   \n",
      "1          Anguilla   United Kingdom  18.2206 -63.0686   \n",
      "2          Anguilla   United Kingdom  18.2206 -63.0686   \n",
      "3          Anguilla   United Kingdom  18.2206 -63.0686   \n",
      "4          Anguilla   United Kingdom  18.2206 -63.0686   \n",
      "...             ...              ...      ...      ...   \n",
      "7579         Others   United Kingdom  55.3781  -3.4360   \n",
      "7580         Others   United Kingdom  55.3781  -3.4360   \n",
      "7581         Others   United Kingdom  55.3781  -3.4360   \n",
      "7582         Others   United Kingdom  55.3781  -3.4360   \n",
      "7583         Others   United Kingdom  55.3781  -3.4360   \n",
      "\n",
      "     ISO 3166-1 Alpha 3-Codes_x                Sub-region Name_x  \\\n",
      "0                           AIA  Latin America and the Caribbean   \n",
      "1                           AIA  Latin America and the Caribbean   \n",
      "2                           AIA  Latin America and the Caribbean   \n",
      "3                           AIA  Latin America and the Caribbean   \n",
      "4                           AIA  Latin America and the Caribbean   \n",
      "...                         ...                              ...   \n",
      "7579                        GBR                  Northern Europe   \n",
      "7580                        GBR                  Northern Europe   \n",
      "7581                        GBR                  Northern Europe   \n",
      "7582                        GBR                  Northern Europe   \n",
      "7583                        GBR                  Northern Europe   \n",
      "\n",
      "      Intermediate Region Code_x        Date  Vaccinated  First Dose  ...  \\\n",
      "0                             29  2020-01-22           0           0  ...   \n",
      "1                             29  2020-01-23           0           0  ...   \n",
      "2                             29  2020-01-24           0           0  ...   \n",
      "3                             29  2020-01-25           0           0  ...   \n",
      "4                             29  2020-01-26           0           0  ...   \n",
      "...                          ...         ...         ...         ...  ...   \n",
      "7579                           0  2021-10-10        1070        1216  ...   \n",
      "7580                           0  2021-10-11        1300        1604  ...   \n",
      "7581                           0  2021-10-12        1482        2027  ...   \n",
      "7582                           0  2021-10-13           0           0  ...   \n",
      "7583                           0  2021-10-14           0           0  ...   \n",
      "\n",
      "      Country/Region_y    Lat_y   Long_y  ISO 3166-1 Alpha 3-Codes_y  \\\n",
      "0       United Kingdom  18.2206 -63.0686                         AIA   \n",
      "1       United Kingdom  18.2206 -63.0686                         AIA   \n",
      "2       United Kingdom  18.2206 -63.0686                         AIA   \n",
      "3       United Kingdom  18.2206 -63.0686                         AIA   \n",
      "4       United Kingdom  18.2206 -63.0686                         AIA   \n",
      "...                ...      ...      ...                         ...   \n",
      "7579    United Kingdom  55.3781  -3.4360                         GBR   \n",
      "7580    United Kingdom  55.3781  -3.4360                         GBR   \n",
      "7581    United Kingdom  55.3781  -3.4360                         GBR   \n",
      "7582    United Kingdom  55.3781  -3.4360                         GBR   \n",
      "7583    United Kingdom  55.3781  -3.4360                         GBR   \n",
      "\n",
      "                    Sub-region Name_y Intermediate Region Code_y    Deaths  \\\n",
      "0     Latin America and the Caribbean                         29       0.0   \n",
      "1     Latin America and the Caribbean                         29       0.0   \n",
      "2     Latin America and the Caribbean                         29       0.0   \n",
      "3     Latin America and the Caribbean                         29       0.0   \n",
      "4     Latin America and the Caribbean                         29       0.0   \n",
      "...                               ...                        ...       ...   \n",
      "7579                  Northern Europe                          0  137735.0   \n",
      "7580                  Northern Europe                          0  137763.0   \n",
      "7581                  Northern Europe                          0  137944.0   \n",
      "7582                  Northern Europe                          0  138080.0   \n",
      "7583                  Northern Europe                          0  138237.0   \n",
      "\n",
      "          Cases  Recovered  Hospitalised  \n",
      "0           0.0        0.0           0.0  \n",
      "1           0.0        0.0           0.0  \n",
      "2           0.0        0.0           0.0  \n",
      "3           0.0        0.0           0.0  \n",
      "4           0.0        0.0           0.0  \n",
      "...         ...        ...           ...  \n",
      "7579  8154306.0        0.0         378.0  \n",
      "7580  8193769.0        0.0         386.0  \n",
      "7581  8231437.0        0.0         386.0  \n",
      "7582  8272883.0        0.0           0.0  \n",
      "7583  8317439.0        0.0           0.0  \n",
      "\n",
      "[7584 rows x 21 columns]\n"
     ]
    }
   ],
   "source": [
    "print(UK_df.shape)\n",
    "print(UK_df.head())\n",
    "print(UK_df.tail())\n",
    "print(UK_df)"
   ]
  },
  {
   "cell_type": "code",
   "execution_count": 95,
   "id": "f694c580-59cb-4511-b562-e6888fdcce04",
   "metadata": {},
   "outputs": [],
   "source": [
    "# Clean up / drop unnecessary columns "
   ]
  },
  {
   "cell_type": "code",
   "execution_count": 96,
   "id": "9e0ec0bb",
   "metadata": {},
   "outputs": [
    {
     "name": "stdout",
     "output_type": "stream",
     "text": [
      "['Province/State', 'Country/Region_x', 'Lat_x', 'Long_x', 'ISO 3166-1 Alpha 3-Codes_x', 'Sub-region Name_x', 'Intermediate Region Code_x', 'Date', 'Vaccinated', 'First Dose', 'Second Dose', 'Country/Region_y', 'Lat_y', 'Long_y', 'ISO 3166-1 Alpha 3-Codes_y', 'Sub-region Name_y', 'Intermediate Region Code_y', 'Deaths', 'Cases', 'Recovered', 'Hospitalised']\n",
      "  Province/State Country/Region_x    Lat_x   Long_x  \\\n",
      "0       Anguilla   United Kingdom  18.2206 -63.0686   \n",
      "1       Anguilla   United Kingdom  18.2206 -63.0686   \n",
      "2       Anguilla   United Kingdom  18.2206 -63.0686   \n",
      "3       Anguilla   United Kingdom  18.2206 -63.0686   \n",
      "4       Anguilla   United Kingdom  18.2206 -63.0686   \n",
      "\n",
      "  ISO 3166-1 Alpha 3-Codes_x                Sub-region Name_x  \\\n",
      "0                        AIA  Latin America and the Caribbean   \n",
      "1                        AIA  Latin America and the Caribbean   \n",
      "2                        AIA  Latin America and the Caribbean   \n",
      "3                        AIA  Latin America and the Caribbean   \n",
      "4                        AIA  Latin America and the Caribbean   \n",
      "\n",
      "   Intermediate Region Code_x        Date  Vaccinated  First Dose  \\\n",
      "0                          29  2020-01-22           0           0   \n",
      "1                          29  2020-01-23           0           0   \n",
      "2                          29  2020-01-24           0           0   \n",
      "3                          29  2020-01-25           0           0   \n",
      "4                          29  2020-01-26           0           0   \n",
      "\n",
      "   Second Dose  Deaths  Cases  Recovered  Hospitalised  \n",
      "0            0     0.0    0.0        0.0           0.0  \n",
      "1            0     0.0    0.0        0.0           0.0  \n",
      "2            0     0.0    0.0        0.0           0.0  \n",
      "3            0     0.0    0.0        0.0           0.0  \n",
      "4            0     0.0    0.0        0.0           0.0  \n"
     ]
    }
   ],
   "source": [
    "list_clean_uk = UK_df.columns.values.tolist()\n",
    "print(list_clean_uk)\n",
    "UK_df_clean = UK_df[['Province/State', 'Country/Region_x', 'Lat_x', 'Long_x', 'ISO 3166-1 Alpha 3-Codes_x','Sub-region Name_x', \\\n",
    "                'Intermediate Region Code_x', 'Date', 'Vaccinated', 'First Dose', 'Second Dose', 'Deaths', 'Cases',\\\n",
    "                'Recovered', 'Hospitalised']]\n",
    "print(UK_df_clean.head())"
   ]
  },
  {
   "cell_type": "code",
   "execution_count": 97,
   "id": "8189edf4",
   "metadata": {},
   "outputs": [],
   "source": [
    "# Fix the date column data type"
   ]
  },
  {
   "cell_type": "code",
   "execution_count": 98,
   "id": "6e6ead15",
   "metadata": {},
   "outputs": [
    {
     "name": "stderr",
     "output_type": "stream",
     "text": [
      "C:\\Users\\Alex\\AppData\\Local\\Temp/ipykernel_24732/2817264899.py:3: SettingWithCopyWarning: \n",
      "A value is trying to be set on a copy of a slice from a DataFrame.\n",
      "Try using .loc[row_indexer,col_indexer] = value instead\n",
      "\n",
      "See the caveats in the documentation: https://pandas.pydata.org/pandas-docs/stable/user_guide/indexing.html#returning-a-view-versus-a-copy\n",
      "  UK_df_clean['Date'] = pd.to_datetime(UK_df_clean['Date'])\n"
     ]
    },
    {
     "data": {
      "text/plain": [
       "Province/State                        object\n",
       "Country/Region_x                      object\n",
       "Lat_x                                float64\n",
       "Long_x                               float64\n",
       "ISO 3166-1 Alpha 3-Codes_x            object\n",
       "Sub-region Name_x                     object\n",
       "Intermediate Region Code_x             int64\n",
       "Date                          datetime64[ns]\n",
       "Vaccinated                             int64\n",
       "First Dose                             int64\n",
       "Second Dose                            int64\n",
       "Deaths                               float64\n",
       "Cases                                float64\n",
       "Recovered                            float64\n",
       "Hospitalised                         float64\n",
       "dtype: object"
      ]
     },
     "execution_count": 98,
     "metadata": {},
     "output_type": "execute_result"
    }
   ],
   "source": [
    "#Change date to datetime\n",
    "\n",
    "UK_df_clean['Date'] = pd.to_datetime(UK_df_clean['Date'])\n",
    "\n",
    "UK_df_clean.dtypes"
   ]
  },
  {
   "cell_type": "code",
   "execution_count": 148,
   "id": "0e7c696c",
   "metadata": {},
   "outputs": [
    {
     "data": {
      "text/html": [
       "<div>\n",
       "<style scoped>\n",
       "    .dataframe tbody tr th:only-of-type {\n",
       "        vertical-align: middle;\n",
       "    }\n",
       "\n",
       "    .dataframe tbody tr th {\n",
       "        vertical-align: top;\n",
       "    }\n",
       "\n",
       "    .dataframe thead th {\n",
       "        text-align: right;\n",
       "    }\n",
       "</style>\n",
       "<table border=\"1\" class=\"dataframe\">\n",
       "  <thead>\n",
       "    <tr style=\"text-align: right;\">\n",
       "      <th></th>\n",
       "      <th>Province/State</th>\n",
       "      <th>Country/Region_x</th>\n",
       "      <th>Lat_x</th>\n",
       "      <th>Long_x</th>\n",
       "      <th>ISO 3166-1 Alpha 3-Codes_x</th>\n",
       "      <th>Sub-region Name_x</th>\n",
       "      <th>Intermediate Region Code_x</th>\n",
       "      <th>Date</th>\n",
       "      <th>Vaccinated</th>\n",
       "      <th>First Dose</th>\n",
       "      <th>Second Dose</th>\n",
       "      <th>Deaths</th>\n",
       "      <th>Cases</th>\n",
       "      <th>Recovered</th>\n",
       "      <th>Hospitalised</th>\n",
       "      <th>Month</th>\n",
       "    </tr>\n",
       "  </thead>\n",
       "  <tbody>\n",
       "    <tr>\n",
       "      <th>0</th>\n",
       "      <td>Anguilla</td>\n",
       "      <td>United Kingdom</td>\n",
       "      <td>18.2206</td>\n",
       "      <td>-63.0686</td>\n",
       "      <td>AIA</td>\n",
       "      <td>Latin America and the Caribbean</td>\n",
       "      <td>29</td>\n",
       "      <td>2020-01-22</td>\n",
       "      <td>0</td>\n",
       "      <td>0</td>\n",
       "      <td>0</td>\n",
       "      <td>0.0</td>\n",
       "      <td>0.0</td>\n",
       "      <td>0.0</td>\n",
       "      <td>0.0</td>\n",
       "      <td>2020-02-01</td>\n",
       "    </tr>\n",
       "    <tr>\n",
       "      <th>1</th>\n",
       "      <td>Anguilla</td>\n",
       "      <td>United Kingdom</td>\n",
       "      <td>18.2206</td>\n",
       "      <td>-63.0686</td>\n",
       "      <td>AIA</td>\n",
       "      <td>Latin America and the Caribbean</td>\n",
       "      <td>29</td>\n",
       "      <td>2020-01-23</td>\n",
       "      <td>0</td>\n",
       "      <td>0</td>\n",
       "      <td>0</td>\n",
       "      <td>0.0</td>\n",
       "      <td>0.0</td>\n",
       "      <td>0.0</td>\n",
       "      <td>0.0</td>\n",
       "      <td>2020-02-01</td>\n",
       "    </tr>\n",
       "    <tr>\n",
       "      <th>2</th>\n",
       "      <td>Anguilla</td>\n",
       "      <td>United Kingdom</td>\n",
       "      <td>18.2206</td>\n",
       "      <td>-63.0686</td>\n",
       "      <td>AIA</td>\n",
       "      <td>Latin America and the Caribbean</td>\n",
       "      <td>29</td>\n",
       "      <td>2020-01-24</td>\n",
       "      <td>0</td>\n",
       "      <td>0</td>\n",
       "      <td>0</td>\n",
       "      <td>0.0</td>\n",
       "      <td>0.0</td>\n",
       "      <td>0.0</td>\n",
       "      <td>0.0</td>\n",
       "      <td>2020-02-01</td>\n",
       "    </tr>\n",
       "    <tr>\n",
       "      <th>3</th>\n",
       "      <td>Anguilla</td>\n",
       "      <td>United Kingdom</td>\n",
       "      <td>18.2206</td>\n",
       "      <td>-63.0686</td>\n",
       "      <td>AIA</td>\n",
       "      <td>Latin America and the Caribbean</td>\n",
       "      <td>29</td>\n",
       "      <td>2020-01-25</td>\n",
       "      <td>0</td>\n",
       "      <td>0</td>\n",
       "      <td>0</td>\n",
       "      <td>0.0</td>\n",
       "      <td>0.0</td>\n",
       "      <td>0.0</td>\n",
       "      <td>0.0</td>\n",
       "      <td>2020-02-01</td>\n",
       "    </tr>\n",
       "    <tr>\n",
       "      <th>4</th>\n",
       "      <td>Anguilla</td>\n",
       "      <td>United Kingdom</td>\n",
       "      <td>18.2206</td>\n",
       "      <td>-63.0686</td>\n",
       "      <td>AIA</td>\n",
       "      <td>Latin America and the Caribbean</td>\n",
       "      <td>29</td>\n",
       "      <td>2020-01-26</td>\n",
       "      <td>0</td>\n",
       "      <td>0</td>\n",
       "      <td>0</td>\n",
       "      <td>0.0</td>\n",
       "      <td>0.0</td>\n",
       "      <td>0.0</td>\n",
       "      <td>0.0</td>\n",
       "      <td>2020-02-01</td>\n",
       "    </tr>\n",
       "    <tr>\n",
       "      <th>...</th>\n",
       "      <td>...</td>\n",
       "      <td>...</td>\n",
       "      <td>...</td>\n",
       "      <td>...</td>\n",
       "      <td>...</td>\n",
       "      <td>...</td>\n",
       "      <td>...</td>\n",
       "      <td>...</td>\n",
       "      <td>...</td>\n",
       "      <td>...</td>\n",
       "      <td>...</td>\n",
       "      <td>...</td>\n",
       "      <td>...</td>\n",
       "      <td>...</td>\n",
       "      <td>...</td>\n",
       "      <td>...</td>\n",
       "    </tr>\n",
       "    <tr>\n",
       "      <th>7579</th>\n",
       "      <td>Others</td>\n",
       "      <td>United Kingdom</td>\n",
       "      <td>55.3781</td>\n",
       "      <td>-3.4360</td>\n",
       "      <td>GBR</td>\n",
       "      <td>Northern Europe</td>\n",
       "      <td>0</td>\n",
       "      <td>2021-10-10</td>\n",
       "      <td>1070</td>\n",
       "      <td>1216</td>\n",
       "      <td>1070</td>\n",
       "      <td>137735.0</td>\n",
       "      <td>8154306.0</td>\n",
       "      <td>0.0</td>\n",
       "      <td>378.0</td>\n",
       "      <td>2021-11-01</td>\n",
       "    </tr>\n",
       "    <tr>\n",
       "      <th>7580</th>\n",
       "      <td>Others</td>\n",
       "      <td>United Kingdom</td>\n",
       "      <td>55.3781</td>\n",
       "      <td>-3.4360</td>\n",
       "      <td>GBR</td>\n",
       "      <td>Northern Europe</td>\n",
       "      <td>0</td>\n",
       "      <td>2021-10-11</td>\n",
       "      <td>1300</td>\n",
       "      <td>1604</td>\n",
       "      <td>1300</td>\n",
       "      <td>137763.0</td>\n",
       "      <td>8193769.0</td>\n",
       "      <td>0.0</td>\n",
       "      <td>386.0</td>\n",
       "      <td>2021-11-01</td>\n",
       "    </tr>\n",
       "    <tr>\n",
       "      <th>7581</th>\n",
       "      <td>Others</td>\n",
       "      <td>United Kingdom</td>\n",
       "      <td>55.3781</td>\n",
       "      <td>-3.4360</td>\n",
       "      <td>GBR</td>\n",
       "      <td>Northern Europe</td>\n",
       "      <td>0</td>\n",
       "      <td>2021-10-12</td>\n",
       "      <td>1482</td>\n",
       "      <td>2027</td>\n",
       "      <td>1482</td>\n",
       "      <td>137944.0</td>\n",
       "      <td>8231437.0</td>\n",
       "      <td>0.0</td>\n",
       "      <td>386.0</td>\n",
       "      <td>2021-11-01</td>\n",
       "    </tr>\n",
       "    <tr>\n",
       "      <th>7582</th>\n",
       "      <td>Others</td>\n",
       "      <td>United Kingdom</td>\n",
       "      <td>55.3781</td>\n",
       "      <td>-3.4360</td>\n",
       "      <td>GBR</td>\n",
       "      <td>Northern Europe</td>\n",
       "      <td>0</td>\n",
       "      <td>2021-10-13</td>\n",
       "      <td>0</td>\n",
       "      <td>0</td>\n",
       "      <td>0</td>\n",
       "      <td>138080.0</td>\n",
       "      <td>8272883.0</td>\n",
       "      <td>0.0</td>\n",
       "      <td>0.0</td>\n",
       "      <td>2021-11-01</td>\n",
       "    </tr>\n",
       "    <tr>\n",
       "      <th>7583</th>\n",
       "      <td>Others</td>\n",
       "      <td>United Kingdom</td>\n",
       "      <td>55.3781</td>\n",
       "      <td>-3.4360</td>\n",
       "      <td>GBR</td>\n",
       "      <td>Northern Europe</td>\n",
       "      <td>0</td>\n",
       "      <td>2021-10-14</td>\n",
       "      <td>0</td>\n",
       "      <td>0</td>\n",
       "      <td>0</td>\n",
       "      <td>138237.0</td>\n",
       "      <td>8317439.0</td>\n",
       "      <td>0.0</td>\n",
       "      <td>0.0</td>\n",
       "      <td>2021-11-01</td>\n",
       "    </tr>\n",
       "  </tbody>\n",
       "</table>\n",
       "<p>7582 rows × 16 columns</p>\n",
       "</div>"
      ],
      "text/plain": [
       "     Province/State Country/Region_x    Lat_x   Long_x  \\\n",
       "0          Anguilla   United Kingdom  18.2206 -63.0686   \n",
       "1          Anguilla   United Kingdom  18.2206 -63.0686   \n",
       "2          Anguilla   United Kingdom  18.2206 -63.0686   \n",
       "3          Anguilla   United Kingdom  18.2206 -63.0686   \n",
       "4          Anguilla   United Kingdom  18.2206 -63.0686   \n",
       "...             ...              ...      ...      ...   \n",
       "7579         Others   United Kingdom  55.3781  -3.4360   \n",
       "7580         Others   United Kingdom  55.3781  -3.4360   \n",
       "7581         Others   United Kingdom  55.3781  -3.4360   \n",
       "7582         Others   United Kingdom  55.3781  -3.4360   \n",
       "7583         Others   United Kingdom  55.3781  -3.4360   \n",
       "\n",
       "     ISO 3166-1 Alpha 3-Codes_x                Sub-region Name_x  \\\n",
       "0                           AIA  Latin America and the Caribbean   \n",
       "1                           AIA  Latin America and the Caribbean   \n",
       "2                           AIA  Latin America and the Caribbean   \n",
       "3                           AIA  Latin America and the Caribbean   \n",
       "4                           AIA  Latin America and the Caribbean   \n",
       "...                         ...                              ...   \n",
       "7579                        GBR                  Northern Europe   \n",
       "7580                        GBR                  Northern Europe   \n",
       "7581                        GBR                  Northern Europe   \n",
       "7582                        GBR                  Northern Europe   \n",
       "7583                        GBR                  Northern Europe   \n",
       "\n",
       "      Intermediate Region Code_x       Date  Vaccinated  First Dose  \\\n",
       "0                             29 2020-01-22           0           0   \n",
       "1                             29 2020-01-23           0           0   \n",
       "2                             29 2020-01-24           0           0   \n",
       "3                             29 2020-01-25           0           0   \n",
       "4                             29 2020-01-26           0           0   \n",
       "...                          ...        ...         ...         ...   \n",
       "7579                           0 2021-10-10        1070        1216   \n",
       "7580                           0 2021-10-11        1300        1604   \n",
       "7581                           0 2021-10-12        1482        2027   \n",
       "7582                           0 2021-10-13           0           0   \n",
       "7583                           0 2021-10-14           0           0   \n",
       "\n",
       "      Second Dose    Deaths      Cases  Recovered  Hospitalised      Month  \n",
       "0               0       0.0        0.0        0.0           0.0 2020-02-01  \n",
       "1               0       0.0        0.0        0.0           0.0 2020-02-01  \n",
       "2               0       0.0        0.0        0.0           0.0 2020-02-01  \n",
       "3               0       0.0        0.0        0.0           0.0 2020-02-01  \n",
       "4               0       0.0        0.0        0.0           0.0 2020-02-01  \n",
       "...           ...       ...        ...        ...           ...        ...  \n",
       "7579         1070  137735.0  8154306.0        0.0         378.0 2021-11-01  \n",
       "7580         1300  137763.0  8193769.0        0.0         386.0 2021-11-01  \n",
       "7581         1482  137944.0  8231437.0        0.0         386.0 2021-11-01  \n",
       "7582            0  138080.0  8272883.0        0.0           0.0 2021-11-01  \n",
       "7583            0  138237.0  8317439.0        0.0           0.0 2021-11-01  \n",
       "\n",
       "[7582 rows x 16 columns]"
      ]
     },
     "execution_count": 148,
     "metadata": {},
     "output_type": "execute_result"
    }
   ],
   "source": [
    "#change to float \n",
    "\n",
    "UK_df_clean.dropna()\n",
    "\n",
    "\n",
    "UK_df_clean.loc[:,'Deaths':'Hospitalised'] = UK_df_clean.loc[:,'Deaths':'Hospitalised'].applymap(float)\n",
    "\n",
    "\n"
   ]
  },
  {
   "cell_type": "code",
   "execution_count": 100,
   "id": "13e77a37",
   "metadata": {},
   "outputs": [
    {
     "name": "stdout",
     "output_type": "stream",
     "text": [
      "  Province/State  First Dose  Second Dose\n",
      "0       Anguilla           0            0\n",
      "1       Anguilla           0            0\n",
      "2       Anguilla           0            0\n",
      "3       Anguilla           0            0\n",
      "4       Anguilla           0            0\n",
      "                   Sub-region Name  First Dose  Second Dose\n",
      "0  Latin America and the Caribbean           0            0\n",
      "1  Latin America and the Caribbean           0            0\n",
      "2  Latin America and the Caribbean           0            0\n",
      "3  Latin America and the Caribbean           0            0\n",
      "4  Latin America and the Caribbean           0            0\n"
     ]
    }
   ],
   "source": [
    "#Subset Data to Province/State\n",
    "\n",
    "Vaccinated_uk2 = Vaccinated_uk[['Province/State', 'First Dose', 'Second Dose']]\n",
    "\n",
    "print(Vaccinated_uk2.head())\n",
    "\n",
    "#Subset to Region\n",
    "\n",
    "Vaccinated_uk3 = Vaccinated_uk[['Sub-region Name', 'First Dose', 'Second Dose']]\n",
    "print(Vaccinated_uk3.head())\n"
   ]
  },
  {
   "cell_type": "code",
   "execution_count": 101,
   "id": "7dceee9b-21cc-47fd-bd8f-4ccc3cd6770d",
   "metadata": {},
   "outputs": [],
   "source": [
    "# Groupby and calculate difference between first and second dose"
   ]
  },
  {
   "cell_type": "code",
   "execution_count": 102,
   "id": "abdef5d8-84cd-445a-8165-8f679348ecf1",
   "metadata": {},
   "outputs": [
    {
     "data": {
      "text/html": [
       "<div>\n",
       "<style scoped>\n",
       "    .dataframe tbody tr th:only-of-type {\n",
       "        vertical-align: middle;\n",
       "    }\n",
       "\n",
       "    .dataframe tbody tr th {\n",
       "        vertical-align: top;\n",
       "    }\n",
       "\n",
       "    .dataframe thead th {\n",
       "        text-align: right;\n",
       "    }\n",
       "</style>\n",
       "<table border=\"1\" class=\"dataframe\">\n",
       "  <thead>\n",
       "    <tr style=\"text-align: right;\">\n",
       "      <th></th>\n",
       "      <th>First Dose</th>\n",
       "      <th>Second Dose</th>\n",
       "    </tr>\n",
       "    <tr>\n",
       "      <th>Province/State</th>\n",
       "      <th></th>\n",
       "      <th></th>\n",
       "    </tr>\n",
       "  </thead>\n",
       "  <tbody>\n",
       "    <tr>\n",
       "      <th>Anguilla</th>\n",
       "      <td>4931470</td>\n",
       "      <td>4709072</td>\n",
       "    </tr>\n",
       "    <tr>\n",
       "      <th>Bermuda</th>\n",
       "      <td>2817981</td>\n",
       "      <td>2690908</td>\n",
       "    </tr>\n",
       "    <tr>\n",
       "      <th>British Virgin Islands</th>\n",
       "      <td>5166303</td>\n",
       "      <td>4933315</td>\n",
       "    </tr>\n",
       "    <tr>\n",
       "      <th>Cayman Islands</th>\n",
       "      <td>3522476</td>\n",
       "      <td>3363624</td>\n",
       "    </tr>\n",
       "    <tr>\n",
       "      <th>Channel Islands</th>\n",
       "      <td>3287646</td>\n",
       "      <td>3139385</td>\n",
       "    </tr>\n",
       "    <tr>\n",
       "      <th>Falkland Islands (Malvinas)</th>\n",
       "      <td>3757307</td>\n",
       "      <td>3587869</td>\n",
       "    </tr>\n",
       "    <tr>\n",
       "      <th>Gibraltar</th>\n",
       "      <td>5870786</td>\n",
       "      <td>5606041</td>\n",
       "    </tr>\n",
       "    <tr>\n",
       "      <th>Isle of Man</th>\n",
       "      <td>4226984</td>\n",
       "      <td>4036345</td>\n",
       "    </tr>\n",
       "    <tr>\n",
       "      <th>Montserrat</th>\n",
       "      <td>5401128</td>\n",
       "      <td>5157560</td>\n",
       "    </tr>\n",
       "    <tr>\n",
       "      <th>Others</th>\n",
       "      <td>2583151</td>\n",
       "      <td>2466669</td>\n",
       "    </tr>\n",
       "    <tr>\n",
       "      <th>Saint Helena, Ascension and Tristan da Cunha</th>\n",
       "      <td>2348310</td>\n",
       "      <td>2242421</td>\n",
       "    </tr>\n",
       "    <tr>\n",
       "      <th>Turks and Caicos Islands</th>\n",
       "      <td>3052822</td>\n",
       "      <td>2915136</td>\n",
       "    </tr>\n",
       "  </tbody>\n",
       "</table>\n",
       "</div>"
      ],
      "text/plain": [
       "                                              First Dose  Second Dose\n",
       "Province/State                                                       \n",
       "Anguilla                                         4931470      4709072\n",
       "Bermuda                                          2817981      2690908\n",
       "British Virgin Islands                           5166303      4933315\n",
       "Cayman Islands                                   3522476      3363624\n",
       "Channel Islands                                  3287646      3139385\n",
       "Falkland Islands (Malvinas)                      3757307      3587869\n",
       "Gibraltar                                        5870786      5606041\n",
       "Isle of Man                                      4226984      4036345\n",
       "Montserrat                                       5401128      5157560\n",
       "Others                                           2583151      2466669\n",
       "Saint Helena, Ascension and Tristan da Cunha     2348310      2242421\n",
       "Turks and Caicos Islands                         3052822      2915136"
      ]
     },
     "execution_count": 102,
     "metadata": {},
     "output_type": "execute_result"
    }
   ],
   "source": [
    "#Group By for province/State\n",
    "\n",
    "Dosage = Vaccinated_uk2.groupby(['Province/State'])\n",
    "\n",
    "\n",
    "DD = Dosage.sum()\n",
    "\n",
    "DD\n",
    "\n",
    "#Commented out for cleaner output\n",
    "#Dosage.describe()"
   ]
  },
  {
   "cell_type": "code",
   "execution_count": 103,
   "id": "60fb7ac1",
   "metadata": {},
   "outputs": [
    {
     "data": {
      "text/html": [
       "<div>\n",
       "<style scoped>\n",
       "    .dataframe tbody tr th:only-of-type {\n",
       "        vertical-align: middle;\n",
       "    }\n",
       "\n",
       "    .dataframe tbody tr th {\n",
       "        vertical-align: top;\n",
       "    }\n",
       "\n",
       "    .dataframe thead th {\n",
       "        text-align: right;\n",
       "    }\n",
       "</style>\n",
       "<table border=\"1\" class=\"dataframe\">\n",
       "  <thead>\n",
       "    <tr style=\"text-align: right;\">\n",
       "      <th></th>\n",
       "      <th>First Dose</th>\n",
       "      <th>Second Dose</th>\n",
       "      <th>Difference</th>\n",
       "      <th>Percent</th>\n",
       "    </tr>\n",
       "    <tr>\n",
       "      <th>Province/State</th>\n",
       "      <th></th>\n",
       "      <th></th>\n",
       "      <th></th>\n",
       "      <th></th>\n",
       "    </tr>\n",
       "  </thead>\n",
       "  <tbody>\n",
       "    <tr>\n",
       "      <th>Anguilla</th>\n",
       "      <td>4931470</td>\n",
       "      <td>4709072</td>\n",
       "      <td>222398</td>\n",
       "      <td>4.509771</td>\n",
       "    </tr>\n",
       "    <tr>\n",
       "      <th>Bermuda</th>\n",
       "      <td>2817981</td>\n",
       "      <td>2690908</td>\n",
       "      <td>127073</td>\n",
       "      <td>4.509363</td>\n",
       "    </tr>\n",
       "    <tr>\n",
       "      <th>British Virgin Islands</th>\n",
       "      <td>5166303</td>\n",
       "      <td>4933315</td>\n",
       "      <td>232988</td>\n",
       "      <td>4.509763</td>\n",
       "    </tr>\n",
       "    <tr>\n",
       "      <th>Cayman Islands</th>\n",
       "      <td>3522476</td>\n",
       "      <td>3363624</td>\n",
       "      <td>158852</td>\n",
       "      <td>4.509669</td>\n",
       "    </tr>\n",
       "    <tr>\n",
       "      <th>Channel Islands</th>\n",
       "      <td>3287646</td>\n",
       "      <td>3139385</td>\n",
       "      <td>148261</td>\n",
       "      <td>4.509640</td>\n",
       "    </tr>\n",
       "    <tr>\n",
       "      <th>Falkland Islands (Malvinas)</th>\n",
       "      <td>3757307</td>\n",
       "      <td>3587869</td>\n",
       "      <td>169438</td>\n",
       "      <td>4.509560</td>\n",
       "    </tr>\n",
       "    <tr>\n",
       "      <th>Gibraltar</th>\n",
       "      <td>5870786</td>\n",
       "      <td>5606041</td>\n",
       "      <td>264745</td>\n",
       "      <td>4.509532</td>\n",
       "    </tr>\n",
       "    <tr>\n",
       "      <th>Isle of Man</th>\n",
       "      <td>4226984</td>\n",
       "      <td>4036345</td>\n",
       "      <td>190639</td>\n",
       "      <td>4.510048</td>\n",
       "    </tr>\n",
       "    <tr>\n",
       "      <th>Montserrat</th>\n",
       "      <td>5401128</td>\n",
       "      <td>5157560</td>\n",
       "      <td>243568</td>\n",
       "      <td>4.509577</td>\n",
       "    </tr>\n",
       "    <tr>\n",
       "      <th>Others</th>\n",
       "      <td>2583151</td>\n",
       "      <td>2466669</td>\n",
       "      <td>116482</td>\n",
       "      <td>4.509299</td>\n",
       "    </tr>\n",
       "    <tr>\n",
       "      <th>Saint Helena, Ascension and Tristan da Cunha</th>\n",
       "      <td>2348310</td>\n",
       "      <td>2242421</td>\n",
       "      <td>105889</td>\n",
       "      <td>4.509158</td>\n",
       "    </tr>\n",
       "    <tr>\n",
       "      <th>Turks and Caicos Islands</th>\n",
       "      <td>3052822</td>\n",
       "      <td>2915136</td>\n",
       "      <td>137686</td>\n",
       "      <td>4.510122</td>\n",
       "    </tr>\n",
       "  </tbody>\n",
       "</table>\n",
       "</div>"
      ],
      "text/plain": [
       "                                              First Dose  Second Dose  \\\n",
       "Province/State                                                          \n",
       "Anguilla                                         4931470      4709072   \n",
       "Bermuda                                          2817981      2690908   \n",
       "British Virgin Islands                           5166303      4933315   \n",
       "Cayman Islands                                   3522476      3363624   \n",
       "Channel Islands                                  3287646      3139385   \n",
       "Falkland Islands (Malvinas)                      3757307      3587869   \n",
       "Gibraltar                                        5870786      5606041   \n",
       "Isle of Man                                      4226984      4036345   \n",
       "Montserrat                                       5401128      5157560   \n",
       "Others                                           2583151      2466669   \n",
       "Saint Helena, Ascension and Tristan da Cunha     2348310      2242421   \n",
       "Turks and Caicos Islands                         3052822      2915136   \n",
       "\n",
       "                                              Difference   Percent  \n",
       "Province/State                                                      \n",
       "Anguilla                                          222398  4.509771  \n",
       "Bermuda                                           127073  4.509363  \n",
       "British Virgin Islands                            232988  4.509763  \n",
       "Cayman Islands                                    158852  4.509669  \n",
       "Channel Islands                                   148261  4.509640  \n",
       "Falkland Islands (Malvinas)                       169438  4.509560  \n",
       "Gibraltar                                         264745  4.509532  \n",
       "Isle of Man                                       190639  4.510048  \n",
       "Montserrat                                        243568  4.509577  \n",
       "Others                                            116482  4.509299  \n",
       "Saint Helena, Ascension and Tristan da Cunha      105889  4.509158  \n",
       "Turks and Caicos Islands                          137686  4.510122  "
      ]
     },
     "execution_count": 103,
     "metadata": {},
     "output_type": "execute_result"
    }
   ],
   "source": [
    "# Create difference and percentage column \n",
    "\n",
    "#Amount of people who received the first vaccine but not the second\n",
    "DD['Difference'] = DD['First Dose'] - DD['Second Dose']\n",
    "\n",
    "# Percent of individuals who received the first vaccine but not the second\n",
    "DD['Percent'] = (DD['Difference'] * 100)/(DD['First Dose'])\n",
    "\n",
    "\n",
    "DD"
   ]
  },
  {
   "cell_type": "code",
   "execution_count": 104,
   "id": "7f7cd313-917b-4a99-8027-0be7cf42ddef",
   "metadata": {},
   "outputs": [],
   "source": [
    "#Report Responses"
   ]
  },
  {
   "cell_type": "code",
   "execution_count": 105,
   "id": "941ecc7f-2891-472f-90f5-d00bea73898b",
   "metadata": {},
   "outputs": [
    {
     "data": {
      "text/plain": [
       "'Gibraltar had the highest number of individuals who have received a first dose but not a second dose at 264745 individuals.\\n\\nA. The percentage of individuals who have received a first dose but not a second dose was relatively uniform across all \\nprovinces and states at 4.5%.\\n\\nBy observing the data we can note that while the number of first dose vaccinations are much higher than second doses \\nearlier in time, however this reverses several months in.'"
      ]
     },
     "execution_count": 105,
     "metadata": {},
     "output_type": "execute_result"
    }
   ],
   "source": [
    "\"\"\"Gibraltar had the highest number of individuals who have received a first dose but not a second dose at 264745 individuals.\n",
    "\n",
    "A. The percentage of individuals who have received a first dose but not a second dose was relatively uniform across all \n",
    "provinces and states at 4.5%.\n",
    "\n",
    "By observing the data we can note that while the number of first dose vaccinations are much higher than second doses \n",
    "earlier in time, however this reverses several months in.\"\"\""
   ]
  },
  {
   "cell_type": "markdown",
   "id": "f252a92c-53a2-4c04-a639-6b360716506a",
   "metadata": {},
   "source": [
    "#### 3.2) Presentation expectations:\n",
    "We use similar calculations and representations as we had in activity 2, but now expand to look at all provinces. Assignment 3 is concerned with exploring data in the context of a specific business question (as opposed to general exploration in assignment 2).\n",
    "- What insights can be gained from the data? (Description of all regions, assumptions and concerns, trends or patterns you have observed.)\n",
    "- Are there limitations or assumptions that needs to be considered?\n",
    "- Make sure to provide a brief overview of the data and typical considerations at this phase of analysis"
   ]
  },
  {
   "cell_type": "code",
   "execution_count": null,
   "id": "a1c5838a-5115-489b-81a5-bf5daa34de97",
   "metadata": {},
   "outputs": [],
   "source": [
    "#What insights can be gained from the data?"
   ]
  },
  {
   "cell_type": "code",
   "execution_count": null,
   "id": "bdccd852",
   "metadata": {},
   "outputs": [],
   "source": [
    "\"\"\"Gibraltar had the highest number of individuals who have received a first dose but not a second dose at 264745 individuals.\n",
    "\n",
    "A. The percentage of individuals who have received a first dose but not a second dose was relatively uniform across all \n",
    "provinces and states at 4.5%.\n",
    "\n",
    "By observing the data we can note that while the number of first dose vaccinations are much higher than second doses \n",
    "earlier in time, however this reverses several months in.\"\"\""
   ]
  },
  {
   "cell_type": "code",
   "execution_count": null,
   "id": "88a4c86c",
   "metadata": {},
   "outputs": [],
   "source": [
    "#Are there limitations or assumptions that needs to be considered?"
   ]
  },
  {
   "cell_type": "code",
   "execution_count": null,
   "id": "74762c0b",
   "metadata": {},
   "outputs": [],
   "source": [
    "\"\"\"Limitations arise when the size of the population varies depending on provinces leading to greater reported numbers\n",
    "in provinces with a high population count over smaller population provinces. Since there is no information on the size\n",
    "of the population in each province we cannot see what proportion of the population has covid compared to other regions, \n",
    "proportionately to population size. \n",
    "\n",
    "We as well must not assume that covid reports are entirely accurate. People who isolated from home may not be counted in \n",
    "total count of individuals who suffered from covid\"\"\""
   ]
  },
  {
   "cell_type": "code",
   "execution_count": null,
   "id": "af8b09c6",
   "metadata": {},
   "outputs": [],
   "source": [
    "#Make sure to provide a brief overview of the data and typical considerations at this phase of analysis"
   ]
  },
  {
   "cell_type": "code",
   "execution_count": null,
   "id": "545426c4",
   "metadata": {},
   "outputs": [],
   "source": [
    "\"\"\" We merged the cases and vaccinated uk dataframes using a left join. After subsetting the data to clean the dataframe\n",
    "we change the data types dates from object to datetime and from float to int, grouped by and aggregated data to\n",
    "calculate the sum of vaccines administered (whethere they were first or second dose). We finally calculated the \n",
    "difference and percentage of ppl who received a 1st dose but not a second.\"\"\""
   ]
  },
  {
   "cell_type": "markdown",
   "id": "a92fccc3-ec93-4096-a90a-6c864dadbdb5",
   "metadata": {},
   "source": [
    "### 4) Assignment activity 4: [Visualise and identify initial trends](https://fourthrev.instructure.com/courses/313/pages/assignment-activity-4-visualise-and-identify-initial-trends?module_item_id=21381)\n",
    "\n",
    "The government is looking to promote second dose vaccinations and looking for the first area to test a new campaign. They are looking for the highest number of people who have received a first dose and not a second dose. \n",
    "- Where should they target?\n",
    "- Which provinces have the highest number (actual numbers) and highest relative numbers (second dose only/first dose)\n",
    "- Visualise both outputs.\n",
    "\n",
    "#### 4.1) Report expectations:\n",
    "- Consider additional features (deaths and recoveries)\n",
    "- Visualise the data\n",
    "- Note observations\n",
    " - Do deaths follow the same patterns observed in vaccination data (daily vs cumulative)?\n",
    " - Do we need to separate groups of data for specific variables and analyse them in isolation (Others) to be able to observe the patterns?"
   ]
  },
  {
   "cell_type": "markdown",
   "id": "0df7d7da-322b-47f4-a4aa-857835310948",
   "metadata": {},
   "source": [
    "#### 4.2) Presentation expectations:\n",
    "- What insights can be gained from the data?\n",
    "- Why do we need to consider other features?\n",
    "- **Note**: Different features evaluated to improve decision making (deaths and recoveries); why it is important to explore data and use different views; Highlight two or three suggestions to get junior team members started in terms of good practices"
   ]
  },
  {
   "cell_type": "code",
   "execution_count": null,
   "id": "f24769ac-0135-45d3-8902-52765d523e8a",
   "metadata": {},
   "outputs": [],
   "source": []
  },
  {
   "cell_type": "code",
   "execution_count": 192,
   "id": "fd7bd40a-4afb-4bb1-8d15-6cadcd6fa335",
   "metadata": {},
   "outputs": [
    {
     "name": "stdout",
     "output_type": "stream",
     "text": [
      "      Province/State  Vacc_Status   Sum\n",
      "15163         Others  Second Dose  1070\n",
      "15164         Others  Second Dose  1300\n",
      "15165         Others  Second Dose  1482\n",
      "15166         Others  Second Dose     0\n",
      "15167         Others  Second Dose     0\n",
      "Province/State    object\n",
      "Vacc_Status       object\n",
      "Sum                int64\n",
      "dtype: object\n"
     ]
    }
   ],
   "source": [
    "#Melt for Province/State\n",
    "\n",
    "Vax2 = Vaccinated_uk2.melt(id_vars='Province/State', var_name='Vacc_Status', value_name='Sum')\n",
    "\n",
    "print(Vax2.tail())\n",
    "\n",
    "\n",
    "print(Vax2.dtypes)"
   ]
  },
  {
   "cell_type": "code",
   "execution_count": 110,
   "id": "0fba2fd8-e5a5-439a-842c-620111120f83",
   "metadata": {},
   "outputs": [
    {
     "data": {
      "text/plain": [
       "[Text(0, 0, 'Anguilla'),\n",
       " Text(1, 0, 'Bermuda'),\n",
       " Text(2, 0, 'British Virgin Islands'),\n",
       " Text(3, 0, 'Cayman Islands'),\n",
       " Text(4, 0, 'Channel Islands'),\n",
       " Text(5, 0, 'Falkland Islands (Malvinas)'),\n",
       " Text(6, 0, 'Gibraltar'),\n",
       " Text(7, 0, 'Isle of Man'),\n",
       " Text(8, 0, 'Montserrat'),\n",
       " Text(9, 0, 'Saint Helena, Ascension and Tristan da Cunha'),\n",
       " Text(10, 0, 'Turks and Caicos Islands'),\n",
       " Text(11, 0, 'Others')]"
      ]
     },
     "execution_count": 110,
     "metadata": {},
     "output_type": "execute_result"
    },
    {
     "data": {
      "image/png": "[encoded data removed]",
      "text/plain": [
       "<Figure size 1080x720 with 1 Axes>"
      ]
     },
     "metadata": {},
     "output_type": "display_data"
    }
   ],
   "source": [
    "#Bar plot of Vaccinations per Province   \n",
    "\n",
    "plt = sns.barplot(x=\"Province/State\", y=\"Sum\", hue='Vacc_Status', estimator=sum, data=Vax2)\n",
    "plt.set_xticklabels(plt.get_xticklabels(),rotation = 30)\n"
   ]
  },
  {
   "cell_type": "code",
   "execution_count": 171,
   "id": "b84acdc8-d543-4637-b0c3-2a97b4e91c08",
   "metadata": {},
   "outputs": [
    {
     "data": {
      "text/plain": [
       "<Figure size 1296x432 with 0 Axes>"
      ]
     },
     "execution_count": 171,
     "metadata": {},
     "output_type": "execute_result"
    },
    {
     "data": {
      "text/plain": [
       "<AxesSubplot:xlabel='Month', ylabel='Deaths'>"
      ]
     },
     "execution_count": 171,
     "metadata": {},
     "output_type": "execute_result"
    },
    {
     "data": {
      "image/png": "[encoded data removed]",
      "text/plain": [
       "<Figure size 1296x432 with 1 Axes>"
      ]
     },
     "metadata": {
      "needs_background": "light"
     },
     "output_type": "display_data"
    }
   ],
   "source": [
    "#Plot Deaths per month per Province/State without Others\n",
    "\n",
    "UK_df_clean['Month']=pd.to_datetime(UK_df_clean['Date']+pd.offsets.MonthBegin(0))\n",
    "\n",
    "plt.figure(figsize=(18, 6))\n",
    "\n",
    "sns.lineplot(x='Month', y='Deaths', hue='Province/State', data=UK_df_clean[UK_df_clean['Province/State'] !='Others'], ci=None)"
   ]
  },
  {
   "cell_type": "code",
   "execution_count": null,
   "id": "6858b31a-dd08-461d-af17-9e0419554ee5",
   "metadata": {},
   "outputs": [],
   "source": [
    "#Sum of recovered per region\n",
    "\n",
    "UK_df_rec = UK_df_clean[['Province/State', 'Recovered']]\n",
    "\n",
    "\n",
    "Recovered = UK_df_rec.groupby(['Province/State'])\n",
    "\n",
    "\n",
    "Recsum = Recovered.sum()\n",
    "\n",
    "Recsum.sort_values(by=['Recovered'], inplace=True, ascending=False)\n",
    "\n",
    "Recsum\n"
   ]
  },
  {
   "cell_type": "code",
   "execution_count": null,
   "id": "abdb1c4b-2580-44e1-aa85-2cc0f678276d",
   "metadata": {},
   "outputs": [],
   "source": [
    "# Plot of Recoveries per Province/State over time\n",
    "\n",
    "sns.lineplot(x='Month', y='Recovered', hue='Province/State', data=UK_df_clean[UK_df_clean['Province/State'] !='Others'], ci=None)"
   ]
  },
  {
   "cell_type": "code",
   "execution_count": null,
   "id": "ef2c9581-640b-4504-9326-183f7ee6d998",
   "metadata": {},
   "outputs": [],
   "source": [
    "#Report Observations"
   ]
  },
  {
   "cell_type": "code",
   "execution_count": null,
   "id": "9ae5d0c1",
   "metadata": {},
   "outputs": [],
   "source": [
    "\"\"\"As mentioned in section 2, deaths in the cases data set are cumulative, while the number of vaccinated\n",
    "individuals in the vaccinated UK data set are cumulative reports\n",
    "\n",
    "Certain data groups make it impossible to view relationships between other values as one category may be too large, \n",
    "specifically this grop is the 'others'. By omitting it from our visualisation, we can clearly view\n",
    "trends for the other data groups over time\n",
    "\n",
    "95.5% of individuals who have received a first dose have been fully vaccinated at the end of the recorded time period,\n",
    "in all regions.\n",
    "\n",
    "Gibraltar and the Channel islands experienced a large spike in the number of deaths from covid in the early months of 2021,\n",
    "lasting till the end of the recorded time period. Isle of man had relatively few deaths after 2020-06\n",
    "\n",
    "These visualisations are useful in informing the government that there was an extreme drop off of recoveries while death tolls\n",
    "pleateauded after 2021-09, informing them that vaccination and lockdown procedures were effective in stopping the spread \n",
    "of the virus. It as well instructs them on when the virus caused the most amounts of deaths, guiding future investigations\n",
    "of what went wrong at that time\"\"\""
   ]
  },
  {
   "cell_type": "code",
   "execution_count": null,
   "id": "cdac2242",
   "metadata": {},
   "outputs": [],
   "source": []
  },
  {
   "cell_type": "markdown",
   "id": "ce9b4b33-b9e7-4edb-8b31-be365e6729bf",
   "metadata": {},
   "source": [
    "***Notes and observations:***\n",
    "Your observations here. (Double click to edit)\n",
    "\n",
    "***Examples could include:***\n",
    "- Are there other trends in terms of recoveries or hospitalisations compared to other features that you found interesting and that may add value in terms of the decision making process?\n",
    "- Any other observations regarding the data?\n",
    "- Any suggestions for improvements and further analysis?\n",
    "- What would your future data requirements be?"
   ]
  },
  {
   "cell_type": "code",
   "execution_count": null,
   "id": "15f74d58-5eec-4413-9fb2-47790f879fd9",
   "metadata": {},
   "outputs": [],
   "source": [
    "\"\"\"What insights can be gained from the data?\n",
    "\n",
    "95.5% of individuals who have received a first dose have been fully vaccinated at the end of the recorded time period,\n",
    "in all regions.\n",
    "\n",
    "Gibraltar and the Channel islands experienced a large spike in the number of deaths from covid in the early months of 2021,\n",
    "lasting till the end of the recorded time period. Isle of man had relatively few deaths after 2020-06\n",
    "\n",
    "These visualisations are useful in informing the government that there was an extreme drop off of recoveries while death tolls\n",
    "pleateauded after 2021-09, informing them that vaccination and lockdown procedures were effective in stopping the spread \n",
    "of the virus. It as well instructs them on when the virus caused the most amounts of deaths, guiding future investigations\n",
    "of what went wrong at that time\"\"\"\n",
    "\n",
    "\n",
    "\"\"\"Why do we need to consider other features?\n",
    "\n",
    "By comparing graphs of death tolls and recoveries we are able to make assertions and guide further investigations\n",
    "about how the different variables are interlinked and how combining them can create a hollistic view of the situation at hand\n",
    "\n",
    "\n",
    "My tips to get junior team members started in terms of good practices would be to import all libraries and imported data sets\n",
    "in one input cell to keep a clear record of which dataframes and packages are being imported. Annotate your code heavily\n",
    "yet clearly And try to make functions compact and efficient\"\"\"\n"
   ]
  },
  {
   "cell_type": "markdown",
   "id": "f8869036-4f54-44b1-861d-86becdcfcc2d",
   "metadata": {},
   "source": [
    "### 5) Assignment activity 5: External data: [Analyse the Twitter data](https://fourthrev.instructure.com/courses/313/pages/assignment-activity-5-analyse-the-twitter-data?module_item_id=21383)\n",
    "In the next section, you were supplied with a sample file and the question was asked to determine whether there are additional #tags or keywords that could potentially provide insights into your covid analysis. While the sample set is limited, you were asked to review the provided file and demonstrate the typical steps and make recommendations regarding future use of similar datasets to provide richer insights.\n",
    "\n",
    "#### 5.1) Report expectations:\n",
    "- Demonstrate basic ability to work with Twitter data\n",
    "- Search for hash-tags or keywords\n",
    "- Create dataframes and visualisations\n",
    "- Note observations"
   ]
  },
  {
   "cell_type": "code",
   "execution_count": 112,
   "id": "d1e7d4c3-8227-4160-b503-33758f795a24",
   "metadata": {},
   "outputs": [],
   "source": [
    "# Import the tweet dataset (`tweets_2.csv`)\n"
   ]
  },
  {
   "cell_type": "code",
   "execution_count": 113,
   "id": "67fbd0ff",
   "metadata": {},
   "outputs": [],
   "source": [
    "Tweets_2 = pd.read_csv('tweets_2.csv')"
   ]
  },
  {
   "cell_type": "code",
   "execution_count": 114,
   "id": "a907280f-5bce-4c51-bc5e-f0586bad8b68",
   "metadata": {},
   "outputs": [
    {
     "name": "stdout",
     "output_type": "stream",
     "text": [
      "                       created_at                   id               id_str  \\\n",
      "0  Mon Mar 21 21:45:28 +0000 2022  1506024218571464717  1506024218571464717   \n",
      "1  Mon Mar 21 21:31:13 +0000 2022  1506020629849391104  1506020629849391104   \n",
      "2  Mon Mar 21 19:04:53 +0000 2022  1505983803822592004  1505983803822592004   \n",
      "3  Mon Mar 21 18:39:58 +0000 2022  1505977533841481731  1505977533841481731   \n",
      "4  Mon Mar 21 18:23:08 +0000 2022  1505973299502850052  1505973299502850052   \n",
      "\n",
      "                                                text  truncated  \\\n",
      "0  @Johnrashton47 When #diabetes has been the big...       True   \n",
      "1  Disturbing figures from @fsb_policy @indparltr...       True   \n",
      "2  NEW: #Stormont MLAs voted 57 ~ 25 to extend Do...       True   \n",
      "3  I'm do sick of coming on twitter to see the sa...       True   \n",
      "4  The rollout of new #COVID19 #Booster jabs to #...       True   \n",
      "\n",
      "                                            entities  \\\n",
      "0  {'hashtags': [{'text': 'diabetes', 'indices': ...   \n",
      "1  {'hashtags': [], 'symbols': [], 'user_mentions...   \n",
      "2  {'hashtags': [{'text': 'Stormont', 'indices': ...   \n",
      "3  {'hashtags': [{'text': 'borisOut', 'indices': ...   \n",
      "4  {'hashtags': [{'text': 'COVID19', 'indices': [...   \n",
      "\n",
      "                                            metadata  \\\n",
      "0  {'iso_language_code': 'en', 'result_type': 're...   \n",
      "1  {'iso_language_code': 'en', 'result_type': 're...   \n",
      "2  {'iso_language_code': 'en', 'result_type': 're...   \n",
      "3  {'iso_language_code': 'en', 'result_type': 're...   \n",
      "4  {'iso_language_code': 'en', 'result_type': 're...   \n",
      "\n",
      "                                              source  in_reply_to_status_id  \\\n",
      "0  <a href=\"http://twitter.com/download/android\" ...           1.505660e+18   \n",
      "1  <a href=\"http://twitter.com/download/android\" ...                    NaN   \n",
      "2  <a href=\"http://twitter.com/download/iphone\" r...                    NaN   \n",
      "3  <a href=\"http://twitter.com/download/android\" ...                    NaN   \n",
      "4  <a href=\"https://mobile.twitter.com\" rel=\"nofo...                    NaN   \n",
      "\n",
      "   in_reply_to_status_id_str  ...  retweet_count  favorite_count favorited  \\\n",
      "0               1.505660e+18  ...              0               0     False   \n",
      "1                        NaN  ...              4               3     False   \n",
      "2                        NaN  ...              2               9     False   \n",
      "3                        NaN  ...              0               0     False   \n",
      "4                        NaN  ...              0               1     False   \n",
      "\n",
      "  retweeted lang possibly_sensitive quoted_status_id  quoted_status_id_str  \\\n",
      "0     False   en                NaN              NaN                   NaN   \n",
      "1     False   en              False              NaN                   NaN   \n",
      "2     False   en              False              NaN                   NaN   \n",
      "3     False   en                NaN              NaN                   NaN   \n",
      "4     False   en              False              NaN                   NaN   \n",
      "\n",
      "   quoted_status  extended_entities  \n",
      "0            NaN                NaN  \n",
      "1            NaN                NaN  \n",
      "2            NaN                NaN  \n",
      "3            NaN                NaN  \n",
      "4            NaN                NaN  \n",
      "\n",
      "[5 rows x 29 columns]\n",
      "<class 'pandas.core.frame.DataFrame'>\n",
      "RangeIndex: 100 entries, 0 to 99\n",
      "Data columns (total 29 columns):\n",
      " #   Column                     Non-Null Count  Dtype  \n",
      "---  ------                     --------------  -----  \n",
      " 0   created_at                 100 non-null    object \n",
      " 1   id                         100 non-null    int64  \n",
      " 2   id_str                     100 non-null    int64  \n",
      " 3   text                       100 non-null    object \n",
      " 4   truncated                  100 non-null    bool   \n",
      " 5   entities                   100 non-null    object \n",
      " 6   metadata                   100 non-null    object \n",
      " 7   source                     100 non-null    object \n",
      " 8   in_reply_to_status_id      8 non-null      float64\n",
      " 9   in_reply_to_status_id_str  8 non-null      float64\n",
      " 10  in_reply_to_user_id        11 non-null     float64\n",
      " 11  in_reply_to_user_id_str    11 non-null     float64\n",
      " 12  in_reply_to_screen_name    11 non-null     object \n",
      " 13  user                       100 non-null    object \n",
      " 14  geo                        3 non-null      object \n",
      " 15  coordinates                3 non-null      object \n",
      " 16  place                      100 non-null    object \n",
      " 17  contributors               0 non-null      float64\n",
      " 18  is_quote_status            100 non-null    bool   \n",
      " 19  retweet_count              100 non-null    int64  \n",
      " 20  favorite_count             100 non-null    int64  \n",
      " 21  favorited                  100 non-null    bool   \n",
      " 22  retweeted                  100 non-null    bool   \n",
      " 23  lang                       100 non-null    object \n",
      " 24  possibly_sensitive         66 non-null     object \n",
      " 25  quoted_status_id           12 non-null     float64\n",
      " 26  quoted_status_id_str       12 non-null     float64\n",
      " 27  quoted_status              12 non-null     object \n",
      " 28  extended_entities          14 non-null     object \n",
      "dtypes: bool(4), float64(7), int64(4), object(14)\n",
      "memory usage: 20.0+ KB\n",
      "None\n"
     ]
    }
   ],
   "source": [
    "# Explore the data: info(), head()\n",
    "print(Tweets_2.head())\n",
    "print(Tweets_2.info())\n",
    "\n"
   ]
  },
  {
   "cell_type": "code",
   "execution_count": 115,
   "id": "f659ecc8-b884-457f-8c26-e3d5e43bd807",
   "metadata": {},
   "outputs": [
    {
     "name": "stdout",
     "output_type": "stream",
     "text": [
      "created_at                   100\n",
      "id                           100\n",
      "id_str                       100\n",
      "text                         100\n",
      "truncated                    100\n",
      "entities                     100\n",
      "metadata                     100\n",
      "source                       100\n",
      "in_reply_to_status_id          8\n",
      "in_reply_to_status_id_str      8\n",
      "in_reply_to_user_id           11\n",
      "in_reply_to_user_id_str       11\n",
      "in_reply_to_screen_name       11\n",
      "user                         100\n",
      "geo                            3\n",
      "coordinates                    3\n",
      "place                        100\n",
      "contributors                   0\n",
      "is_quote_status              100\n",
      "retweet_count                100\n",
      "favorite_count               100\n",
      "favorited                    100\n",
      "retweeted                    100\n",
      "lang                         100\n",
      "possibly_sensitive            66\n",
      "quoted_status_id              12\n",
      "quoted_status_id_str          12\n",
      "quoted_status                 12\n",
      "extended_entities             14\n",
      "dtype: int64\n"
     ]
    }
   ],
   "source": [
    "# Explore the structure, count the tweets, get the elements of interest\n",
    "\n",
    "print(Tweets_2.count())\n"
   ]
  },
  {
   "cell_type": "code",
   "execution_count": 170,
   "id": "5fc53faf-5f04-46f8-897a-0bb2c16a0ed7",
   "metadata": {},
   "outputs": [
    {
     "data": {
      "text/plain": [
       "0     @Johnrashton47 When #diabetes has been the big...\n",
       "1     Disturbing figures from @fsb_policy @indparltr...\n",
       "2     NEW: #Stormont MLAs voted 57 ~ 25 to extend Do...\n",
       "3     I'm do sick of coming on twitter to see the sa...\n",
       "4     The rollout of new #COVID19 #Booster jabs to #...\n",
       "                            ...                        \n",
       "95    #CovidIsNotOver #COVID19 #coronavirus #Omicron...\n",
       "96    The sun is shining. The doors are open, it’s n...\n",
       "97    @joeldommett @ZoeTheBall @kylieminogue  so all...\n",
       "98    #COVID19 was mentioned on the death certificat...\n",
       "99    Right it couldn't happen here could it. Brexit...\n",
       "Name: text, Length: 100, dtype: object"
      ]
     },
     "execution_count": 170,
     "metadata": {},
     "output_type": "execute_result"
    }
   ],
   "source": [
    "# Create a dataframe with the text only\n",
    "\n",
    "Tweets_df = pd.DataFrame(Tweets_2)\n",
    "\n",
    "Tweets_df[\"text\"]"
   ]
  },
  {
   "cell_type": "code",
   "execution_count": 156,
   "id": "b65ebfb2-1efd-49f5-823c-6c620909a63d",
   "metadata": {},
   "outputs": [
    {
     "data": {
      "text/plain": [
       "['#diabetes',\n",
       " '#COVID19',\n",
       " '#Stormont',\n",
       " '#covid19',\n",
       " '#COVID19',\n",
       " '#Booster',\n",
       " '#vulnerable',\n",
       " '#IsleofMan',\n",
       " '#COVID19',\n",
       " '#breaking',\n",
       " '#ShanghaiDisneyland',\n",
       " '#COVID19',\n",
       " '#China…',\n",
       " '#COVID19',\n",
       " '#StPatricksDay…',\n",
       " '#Television',\n",
       " '#University',\n",
       " '#UniversityofWestminster',\n",
       " '#competition…',\n",
       " '#COVID19',\n",
       " '#hospital',\n",
       " '#COVID19',\n",
       " '#Devon',\n",
       " '#COVID19',\n",
       " '#Scotland',\n",
       " '#carehomes',\n",
       " '#immune',\n",
       " '#covid',\n",
       " '#CovidVaccination',\n",
       " '#COVID19',\n",
       " '#HongKong',\n",
       " '#COVID19',\n",
       " '#covid19',\n",
       " '#Erasmus',\n",
       " '#COVID19',\n",
       " '#Johnson',\n",
       " '#Brexit',\n",
       " '#Ukraine️',\n",
       " '#Russia',\n",
       " '#COVID19',\n",
       " '#Partygate',\n",
       " '#COVID19',\n",
       " '#covid19',\n",
       " '#RecoveryTrial',\n",
       " '#COVID19',\n",
       " '#COVID19',\n",
       " '#vaccinations\\n\\nToday',\n",
       " '#testingpositive.\\n\\nNo',\n",
       " '#COVID19',\n",
       " '#coronavirus',\n",
       " '#covid19UK',\n",
       " '#COVID19',\n",
       " '#COVID19',\n",
       " '#lostsmellandtaste',\n",
       " '#COVID19',\n",
       " '#covid19',\n",
       " '#friday20thmarch2020',\n",
       " '#marinadalglishcentre',\n",
       " '#China',\n",
       " '#COVID19',\n",
       " '#COVID19',\n",
       " '#COVID19',\n",
       " '#Brexit',\n",
       " '#COVID19',\n",
       " '#Covid_19',\n",
       " '#COVID19',\n",
       " '#COVID',\n",
       " '#sleep',\n",
       " '#insomnia',\n",
       " '#Uber',\n",
       " '#COVID19',\n",
       " '#fieldsing',\n",
       " '#Athens',\n",
       " '#Greece',\n",
       " '#COVID19',\n",
       " '#Partygate',\n",
       " '#Corruption',\n",
       " '#PPE',\n",
       " '#Covid19',\n",
       " '#COVID19',\n",
       " '#COVID19',\n",
       " '#BorisJohnson',\n",
       " '#covid19',\n",
       " '#fuckcovid',\n",
       " '#COVID19',\n",
       " '#coronavirus',\n",
       " '#COVID19',\n",
       " '#covid',\n",
       " '#Uganda',\n",
       " '#COVID19',\n",
       " '#masks…',\n",
       " '#COVID19',\n",
       " '#LasVegas',\n",
       " '#Croydon',\n",
       " '#COVID19…',\n",
       " '#COVID19',\n",
       " '#COVID19',\n",
       " '#COVID19',\n",
       " '#COVID19',\n",
       " '#COVID19',\n",
       " '#COVID19',\n",
       " '#COVID19',\n",
       " '#COVID19',\n",
       " '#lcfc',\n",
       " '#COVID19',\n",
       " '#COVID19',\n",
       " '#COVID19',\n",
       " '#COVID19',\n",
       " '#bestadvice',\n",
       " '#covid19',\n",
       " '#Tips',\n",
       " '#Leadership',\n",
       " '#Management',\n",
       " '#Motivation',\n",
       " '#Innovation…',\n",
       " '#training',\n",
       " '#covid19',\n",
       " '#JIC',\n",
       " '#CovidIsNotOver',\n",
       " '#COVID19',\n",
       " '#coronavirus',\n",
       " '#Omicron',\n",
       " '#BA2',\n",
       " '#pandemic',\n",
       " '#Corona',\n",
       " '#Data',\n",
       " '#coronavirusuk',\n",
       " '#DataScience',\n",
       " '#MaskUp…',\n",
       " '#COVID19',\n",
       " '#NorthernIreland']"
      ]
     },
     "execution_count": 156,
     "metadata": {},
     "output_type": "execute_result"
    }
   ],
   "source": [
    "# Loop through the messages and build a list of values containing the #-symbol\n",
    "\n",
    "#As aided by Georgia\n",
    "\n",
    "hashtags_list_1 = []\n",
    "\n",
    "for tweet in Tweets_df[\"text\"]:\n",
    "    splitted_tweet = tweet.split(\" \")\n",
    "    for word in splitted_tweet:\n",
    "        if word.startswith('#'):\n",
    "            hashtags_list_1.append(word)\n",
    "    \n",
    "    \n",
    "hashtags_list_1\n",
    "   \n",
    "\n"
   ]
  },
  {
   "cell_type": "code",
   "execution_count": 157,
   "id": "95fdeb25",
   "metadata": {},
   "outputs": [
    {
     "name": "stdout",
     "output_type": "stream",
     "text": [
      "                    0\n",
      "0           #diabetes\n",
      "1            #COVID19\n",
      "2           #Stormont\n",
      "3            #covid19\n",
      "4            #COVID19\n",
      "..                ...\n",
      "126    #coronavirusuk\n",
      "127      #DataScience\n",
      "128          #MaskUp…\n",
      "129          #COVID19\n",
      "130  #NorthernIreland\n",
      "\n",
      "[131 rows x 1 columns]\n"
     ]
    }
   ],
   "source": [
    "#Create Data Frame \n",
    "\n",
    "hashtags_list_1 = pd.DataFrame(hashtags_list_1)\n",
    "\n",
    "print(hashtags_list_1)"
   ]
  },
  {
   "cell_type": "code",
   "execution_count": 218,
   "id": "d6f38e08-f144-4e33-9075-4201204603ad",
   "metadata": {},
   "outputs": [
    {
     "name": "stdout",
     "output_type": "stream",
     "text": [
      "['Hashtag']\n"
     ]
    },
    {
     "data": {
      "text/plain": [
       "Hashtag     \n",
       "#COVID19        46\n",
       "#covid19         7\n",
       "#coronavirus     3\n",
       "#covid           2\n",
       "#Brexit          2\n",
       "                ..\n",
       "#JIC             1\n",
       "#IsleofMan       1\n",
       "#Innovation…     1\n",
       "#HongKong        1\n",
       "#vulnerable      1\n",
       "Length: 75, dtype: int64"
      ]
     },
     "execution_count": 218,
     "metadata": {},
     "output_type": "execute_result"
    },
    {
     "data": {
      "text/html": [
       "<div>\n",
       "<style scoped>\n",
       "    .dataframe tbody tr th:only-of-type {\n",
       "        vertical-align: middle;\n",
       "    }\n",
       "\n",
       "    .dataframe tbody tr th {\n",
       "        vertical-align: top;\n",
       "    }\n",
       "\n",
       "    .dataframe thead th {\n",
       "        text-align: right;\n",
       "    }\n",
       "</style>\n",
       "<table border=\"1\" class=\"dataframe\">\n",
       "  <thead>\n",
       "    <tr style=\"text-align: right;\">\n",
       "      <th></th>\n",
       "      <th>Hashtag</th>\n",
       "    </tr>\n",
       "  </thead>\n",
       "  <tbody>\n",
       "    <tr>\n",
       "      <th>1</th>\n",
       "      <td>#COVID19</td>\n",
       "    </tr>\n",
       "    <tr>\n",
       "      <th>3</th>\n",
       "      <td>#covid19</td>\n",
       "    </tr>\n",
       "    <tr>\n",
       "      <th>4</th>\n",
       "      <td>#COVID19</td>\n",
       "    </tr>\n",
       "    <tr>\n",
       "      <th>8</th>\n",
       "      <td>#COVID19</td>\n",
       "    </tr>\n",
       "    <tr>\n",
       "      <th>11</th>\n",
       "      <td>#COVID19</td>\n",
       "    </tr>\n",
       "    <tr>\n",
       "      <th>...</th>\n",
       "      <td>...</td>\n",
       "    </tr>\n",
       "    <tr>\n",
       "      <th>109</th>\n",
       "      <td>#covid19</td>\n",
       "    </tr>\n",
       "    <tr>\n",
       "      <th>116</th>\n",
       "      <td>#covid19</td>\n",
       "    </tr>\n",
       "    <tr>\n",
       "      <th>119</th>\n",
       "      <td>#COVID19</td>\n",
       "    </tr>\n",
       "    <tr>\n",
       "      <th>120</th>\n",
       "      <td>#coronavirus</td>\n",
       "    </tr>\n",
       "    <tr>\n",
       "      <th>129</th>\n",
       "      <td>#COVID19</td>\n",
       "    </tr>\n",
       "  </tbody>\n",
       "</table>\n",
       "<p>62 rows × 1 columns</p>\n",
       "</div>"
      ],
      "text/plain": [
       "          Hashtag\n",
       "1        #COVID19\n",
       "3        #covid19\n",
       "4        #COVID19\n",
       "8        #COVID19\n",
       "11       #COVID19\n",
       "..            ...\n",
       "109      #covid19\n",
       "116      #covid19\n",
       "119      #COVID19\n",
       "120  #coronavirus\n",
       "129      #COVID19\n",
       "\n",
       "[62 rows x 1 columns]"
      ]
     },
     "execution_count": 218,
     "metadata": {},
     "output_type": "execute_result"
    }
   ],
   "source": [
    "# Filter\n",
    "\n",
    "Column_names_tweets = hashtags_list_1.columns.values.tolist()\n",
    "print(Column_names_tweets)\n",
    "\n",
    "hashtags_list_1 = hashtags_list_1.rename(columns= {\"P\" : \"Hashtag\"})\n",
    "\n",
    "hashtags_list_1.value_counts()\n",
    "\n",
    "a = hashtags_list_1[hashtags_list_1['Hashtag'].map(hashtags_list_1['Hashtag'].value_counts()) > 1]\n",
    "\n",
    "a"
   ]
  },
  {
   "cell_type": "code",
   "execution_count": 207,
   "id": "486c422b-4789-41c6-80f3-0edd28e51493",
   "metadata": {
    "scrolled": false
   },
   "outputs": [
    {
     "data": {
      "text/plain": [
       "<AxesSubplot:xlabel='Hashtag', ylabel='count'>"
      ]
     },
     "execution_count": 207,
     "metadata": {},
     "output_type": "execute_result"
    },
    {
     "data": {
      "image/png": "[encoded data removed]",
      "text/plain": [
       "<Figure size 432x288 with 1 Axes>"
      ]
     },
     "metadata": {
      "needs_background": "light"
     },
     "output_type": "display_data"
    }
   ],
   "source": [
    "# Plot number of occurences of tweets in recorded time period\n",
    "\n",
    "sns.countplot(x=\"Hashtag\", data=a)"
   ]
  },
  {
   "cell_type": "code",
   "execution_count": null,
   "id": "35a160ed",
   "metadata": {},
   "outputs": [],
   "source": [
    "#Report Notes"
   ]
  },
  {
   "cell_type": "code",
   "execution_count": null,
   "id": "ed45257e",
   "metadata": {},
   "outputs": [],
   "source": [
    "\"\"\"\n",
    "By splitting each tweet using spaces and with a user defined function,\n",
    "we are able to create a single list comprising only the hashtag values.\n",
    "\n",
    "We can further aggregate the data and filter the values based on number of occurrences to refine the results.\n",
    "\n",
    "By plotting this subset, we can observe that covid19 and covid related hashtags were by far the most trending \n",
    "hashtags during the recorded time period, followed by brexit and party gate related hashtags\"\"\""
   ]
  },
  {
   "cell_type": "markdown",
   "id": "ba0c7137-06dc-4cea-bc3a-5bedaeb8af86",
   "metadata": {},
   "source": [
    "#### 5.2) Presentation expectations:\n",
    "Discuss whether external data could potentially be used and whether it is a viable solution to pursue. Discuss your assumptions and suggestions. \n",
    "\n",
    "Points to consider:\n",
    "- What insights can be gained from the data?\n",
    "- What are the advantages and disadvantages of using external data?\n",
    "- How would you suggest using external data in the project?"
   ]
  },
  {
   "cell_type": "code",
   "execution_count": null,
   "id": "c0d78d6d-8a74-4dc7-9074-65bdac58537a",
   "metadata": {},
   "outputs": [],
   "source": [
    "#Insights"
   ]
  },
  {
   "cell_type": "code",
   "execution_count": null,
   "id": "8b1f7106",
   "metadata": {},
   "outputs": [],
   "source": [
    "\"\"\"\n",
    "By splitting each tweet using spaces and with a user defined function,\n",
    "we are able to create a single list comprising only the hashtag values.\n",
    "\n",
    "We can further aggregate the data and filter the values based on number of occurrences to refine the results.\n",
    "\n",
    "By plotting this subset, we can observe that covid19 and covid related hashtags were by far the most trending \n",
    "hashtags during the recorded time period, followed by brexit and party gate related hashtags\"\"\""
   ]
  },
  {
   "cell_type": "code",
   "execution_count": null,
   "id": "0a8d0dfb",
   "metadata": {},
   "outputs": [],
   "source": [
    "#What are the advantages and disadvantages of using external data?"
   ]
  },
  {
   "cell_type": "code",
   "execution_count": null,
   "id": "1cf15413",
   "metadata": {},
   "outputs": [],
   "source": [
    "\"\"\"External data can be extremely useful to use. It offers us a whole world of opportunities to mine and analyse data to\n",
    "extract insights. However, it does not come in a clean and reader-friendly format and will generally require the data to be\n",
    "cleaned and transformed before it can be analysed.\"\"\""
   ]
  },
  {
   "cell_type": "code",
   "execution_count": null,
   "id": "0d9ad88b",
   "metadata": {},
   "outputs": [],
   "source": [
    "#How would you suggest using external data in the project?"
   ]
  },
  {
   "cell_type": "code",
   "execution_count": null,
   "id": "37564ad4",
   "metadata": {},
   "outputs": [],
   "source": [
    "\"\"\"I would suggest investigating the occurences of certain hashtags on twitter and contrasting them with real world occurences,\n",
    "such as examining whether covid tweets go up when the number of cases accordingly rises\"\"\""
   ]
  },
  {
   "cell_type": "markdown",
   "id": "8339200b-2081-47dc-96f0-d62a408f4d35",
   "metadata": {},
   "source": [
    "### 6) Assignment activity 6: [Perform time-series analysis](https://fourthrev.instructure.com/courses/313/pages/assignment-activity-6-perform-time-series-analysis?module_item_id=22584)\n",
    "\n",
    "#### 6.1) Report expectations:\n",
    "- Demonstrate using external function and interpret results\n",
    "- Note observations"
   ]
  },
  {
   "cell_type": "code",
   "execution_count": 121,
   "id": "b0a64a2f-2417-4dc2-8e2e-c99607b03dc1",
   "metadata": {},
   "outputs": [],
   "source": [
    "# You can copy and paste the relevant code cells from the provided template here."
   ]
  },
  {
   "cell_type": "code",
   "execution_count": 122,
   "id": "5f6cc49f-48f6-4388-8adb-ef12d8eadf2e",
   "metadata": {},
   "outputs": [],
   "source": [
    "# Import additional libraries"
   ]
  },
  {
   "cell_type": "code",
   "execution_count": 123,
   "id": "0fbbddba",
   "metadata": {},
   "outputs": [],
   "source": [
    "import matplotlib.pyplot as plt\n",
    "import seaborn as sns\n",
    "sns.set()\n",
    "\n",
    "from sklearn.metrics import r2_score, median_absolute_error, mean_absolute_error\n",
    "from sklearn.metrics import median_absolute_error, mean_squared_error, mean_squared_log_error\n",
    "\n",
    "import warnings\n",
    "warnings.filterwarnings('ignore')\n",
    "\n",
    "%matplotlib inline\n",
    "\n",
    "## get multiple outputs in the same cell\n",
    "from IPython.core.interactiveshell import InteractiveShell\n",
    "InteractiveShell.ast_node_interactivity = \"all\""
   ]
  },
  {
   "cell_type": "code",
   "execution_count": 124,
   "id": "258aa59e",
   "metadata": {},
   "outputs": [],
   "source": [
    "#Define the moving average plot function"
   ]
  },
  {
   "cell_type": "code",
   "execution_count": 125,
   "id": "a8214e48",
   "metadata": {},
   "outputs": [],
   "source": [
    "def plot_moving_average(series, window, plot_intervals=False, scale=1.96):\n",
    "\n",
    "    rolling_mean = series.rolling(window=window).mean()\n",
    "    \n",
    "    plt.figure(figsize=(12,4))\n",
    "    plt.title('Moving average\\n window size = {}'.format(window))\n",
    "    plt.plot(rolling_mean, 'g', label='Simple moving average trend')\n",
    "    \n",
    "    #Plot confidence intervals for smoothed values\n",
    "    if plot_intervals:\n",
    "        mae = mean_absolute_error(series[window:], rolling_mean[window:])\n",
    "        deviation = np.std(series[window:] - rolling_mean[window:])\n",
    "        lower_bound = rolling_mean - (mae + scale * deviation)\n",
    "        upper_bound = rolling_mean + (mae + scale * deviation)\n",
    "        plt.plot(upper_bound, 'r--', label='Upper bound / Lower bound')\n",
    "        plt.plot(lower_bound, 'r--')\n",
    "            \n",
    "    plt.plot(series[window:], label='Actual values')\n",
    "    plt.legend(loc='best')\n",
    "    plt.grid(True)"
   ]
  },
  {
   "cell_type": "code",
   "execution_count": 172,
   "id": "7217bff6",
   "metadata": {},
   "outputs": [
    {
     "data": {
      "text/plain": [
       "Province/State                        object\n",
       "Country/Region_x                      object\n",
       "Lat_x                                float64\n",
       "Long_x                               float64\n",
       "ISO 3166-1 Alpha 3-Codes_x            object\n",
       "Sub-region Name_x                     object\n",
       "Intermediate Region Code_x             int64\n",
       "Date                          datetime64[ns]\n",
       "Vaccinated                             int64\n",
       "First Dose                             int64\n",
       "Second Dose                            int64\n",
       "Deaths                               float64\n",
       "Cases                                float64\n",
       "Recovered                            float64\n",
       "Hospitalised                         float64\n",
       "Month                         datetime64[ns]\n",
       "dtype: object"
      ]
     },
     "execution_count": 172,
     "metadata": {},
     "output_type": "execute_result"
    }
   ],
   "source": [
    "UK_df_clean['Date'] = pd.to_datetime(UK_df_clean['Date'])\n",
    "\n",
    "UK_df_clean.dtypes"
   ]
  },
  {
   "cell_type": "code",
   "execution_count": 217,
   "id": "7c2e027c",
   "metadata": {},
   "outputs": [
    {
     "data": {
      "image/png": "[encoded data removed]",
      "text/plain": [
       "<Figure size 864x288 with 1 Axes>"
      ]
     },
     "metadata": {
      "needs_background": "light"
     },
     "output_type": "display_data"
    }
   ],
   "source": [
    "#Plot Moving Average for Hospitalisation rates in the Channel Islands over time \n",
    "\n",
    "Cases_Channel = UK_df_clean[UK_df_clean['Province/State'] == 'Channel Islands']\n",
    "\n",
    "Cases_Channel.set_index('Date', inplace=True)\n",
    "\n",
    "plot_moving_average(Cases_Channel.Hospitalised, 7, plot_intervals=True)"
   ]
  },
  {
   "cell_type": "code",
   "execution_count": null,
   "id": "5f282856",
   "metadata": {},
   "outputs": [],
   "source": [
    "\"\"\"\n",
    "The simple moving average trend line predicts with large efficacy actual covid cases over the recorded time\n",
    "period and actual cases remained mainly within the upper and lower threshold bounds.\n",
    "\n",
    "This suggests that covid cases grew in a predictable and formulaic manner. It is thus possible to predict \n",
    "covid cases with relative accuracy within a one week time frame.\"\"\"\n"
   ]
  },
  {
   "cell_type": "markdown",
   "id": "220b2cec-b7d0-4da5-84db-c7e4b82dd305",
   "metadata": {},
   "source": [
    "#### 6.2) Presentation expectations:\n",
    "- **Question 1**: We have heard of both qualitative and quantitative data from the previous consultant. What are the differences between the two? Should we use only one or both of these types of data and why? How can these be used in business predictions? Could you provide examples of each?\n",
    "- **Question 2**: We have also heard a bit about the need for continuous improvement. Why should this be implemented, it seems like a waste of time. Why can’t we just implement the current project as it stands and move on to other pressing matters?\n",
    "- **Question 3**: As a government, we adhere to all data protection requirements and have good governance in place. We only work with aggregated data and therefore will not expose any personal details. We have covered everything from a data ethics standpoint, correct? There’s nothing else we need to implement from a data ethics perspective, right?"
   ]
  },
  {
   "cell_type": "code",
   "execution_count": null,
   "id": "781d9b61",
   "metadata": {},
   "outputs": [],
   "source": [
    "\"\"\"Qualitative forecasting is based on estimations from experts. It is useful when there is not enough\n",
    "historical data. However, they are much less reliable than quantitative forecasting methods. Qualitative forecasting can be \n",
    "used in businesses under the form of market research, the delphi method and a panel consensus.\n",
    "\n",
    "Quantitative forecasting uses solely numeric data over a recorded time period such as scatteriline plots. We can use \n",
    "regression analyses to inform business decisions. \n",
    "\n",
    "While quantitative forecasting is much more accurate and trustworthy, it is useful to incorporate\n",
    "qualitative elements such as product categories in a hollistic multivariate analysis.\"\"\"\n"
   ]
  },
  {
   "cell_type": "code",
   "execution_count": 3,
   "id": "ba341494-515d-4c18-bd6d-0595eb68f78b",
   "metadata": {},
   "outputs": [],
   "source": [
    "\"\"\"Continuous improvement should be implemented to increase effectiveness and efficiency at the heart of an organisation;\n",
    "'processes are improved, quality is increased, and wasted time and effort are reduced'. It is a practice that seeks constantly\n",
    "to lead to a businesses improvement rather than letting it stagnate in a potentially flawed system\n",
    "\n",
    "While continuous improvement requires time and ressources t be kept alive, the return on investment will almost certainly \n",
    "outweigh the initial costs.\n",
    "\n",
    "While sometimes we must decide to use our ressources on urgent and critical matters, continuous improvement is\n",
    "critical when we adhere to the four pillars of continuous improvement, generate and share ideas, id and highligh pb's no matter\n",
    "how small, review progress, embrace change, we can learn from our mistakes, generate new ideas and from it considerably\n",
    "increase product quality and business efficiency\"\"\""
   ]
  },
  {
   "cell_type": "code",
   "execution_count": null,
   "id": "b44364ca-fc1c-4258-a363-b37b494d78d2",
   "metadata": {},
   "outputs": [],
   "source": [
    "\"\"\"Working with aggregated data is an important first step in data ethics concerning data analysis. However a few concerns\n",
    "may arise such as: the data has been approved to be shared with us but we may need further permission to share it in its raw\n",
    "format with others.\n",
    "\n",
    "A data dictionary could be a very useful tool in showing which stages the aggregation has been performed at to reach the data \n",
    "in the form we have now, as well it could inform us on who we can share the data with, when it was created/accessed and who\n",
    "has authorization to see it.\"\"\""
   ]
  }
 ],
 "metadata": {
  "kernelspec": {
   "display_name": "Python 3 (ipykernel)",
   "language": "python",
   "name": "python3"
  },
  "language_info": {
   "codemirror_mode": {
    "name": "ipython",
    "version": 3
   },
   "file_extension": ".py",
   "mimetype": "text/x-python",
   "name": "python",
   "nbconvert_exporter": "python",
   "pygments_lexer": "ipython3",
   "version": "3.9.7"
  }
 },
 "nbformat": 4,
 "nbformat_minor": 5
}
